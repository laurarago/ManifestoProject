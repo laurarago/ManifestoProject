{
 "metadata": {
  "language_info": {
   "codemirror_mode": {
    "name": "ipython",
    "version": 3
   },
   "file_extension": ".py",
   "mimetype": "text/x-python",
   "name": "python",
   "nbconvert_exporter": "python",
   "pygments_lexer": "ipython3",
   "version": "3.8.3"
  },
  "orig_nbformat": 2,
  "kernelspec": {
   "name": "python383jvsc74a57bd0dca0ade3e726a953b501b15e8e990130d2b7799f14cfd9f4271676035ebe5511",
   "display_name": "Python 3.8.3 64-bit ('base': conda)"
  }
 },
 "nbformat": 4,
 "nbformat_minor": 2,
 "cells": [
  {
   "cell_type": "code",
   "execution_count": 1,
   "metadata": {},
   "outputs": [
    {
     "output_type": "execute_result",
     "data": {
      "text/plain": [
       "     yearObject  parfam  countryname  environ  culture  equality  pervote  \\\n",
       "0    1989-01-01      10  Netherlands      8.7      3.4       6.1     4.07   \n",
       "1    1990-01-01      10  Netherlands      8.7      3.4       6.1     4.07   \n",
       "2    1991-01-01      10  Netherlands      8.7      3.4       6.1     4.07   \n",
       "3    1992-01-01      10  Netherlands      8.7      3.4       6.1     4.07   \n",
       "4    1993-01-01      10  Netherlands      8.7      3.4       6.1     4.07   \n",
       "..          ...     ...          ...      ...      ...       ...      ...   \n",
       "228  2016-01-01      95      Estonia      0.0      0.0       0.0     7.12   \n",
       "229  2017-01-01      95      Estonia      0.0      0.0       0.0     7.12   \n",
       "230  2018-01-01      95      Estonia      0.0      0.0       0.0     7.12   \n",
       "231  2019-01-01      95      Estonia      0.0      0.0       0.0     7.12   \n",
       "232  2020-01-01      95      Estonia      0.0      0.0       0.0     7.12   \n",
       "\n",
       "     rile electionDate                                partyname  \n",
       "0   -15.0   1989-09-01                               Green Left  \n",
       "1   -15.0   1989-09-01                               Green Left  \n",
       "2   -15.0   1989-09-01                               Green Left  \n",
       "3   -15.0   1989-09-01                               Green Left  \n",
       "4   -15.0   1989-09-01                               Green Left  \n",
       "..    ...          ...                                      ...  \n",
       "228  62.5   1992-09-01  Electoral Union ‘Independent Royalists'  \n",
       "229  62.5   1992-09-01  Electoral Union ‘Independent Royalists'  \n",
       "230  62.5   1992-09-01  Electoral Union ‘Independent Royalists'  \n",
       "231  62.5   1992-09-01  Electoral Union ‘Independent Royalists'  \n",
       "232  62.5   1992-09-01  Electoral Union ‘Independent Royalists'  \n",
       "\n",
       "[9018 rows x 10 columns]"
      ],
      "text/html": "<div>\n<style scoped>\n    .dataframe tbody tr th:only-of-type {\n        vertical-align: middle;\n    }\n\n    .dataframe tbody tr th {\n        vertical-align: top;\n    }\n\n    .dataframe thead th {\n        text-align: right;\n    }\n</style>\n<table border=\"1\" class=\"dataframe\">\n  <thead>\n    <tr style=\"text-align: right;\">\n      <th></th>\n      <th>yearObject</th>\n      <th>parfam</th>\n      <th>countryname</th>\n      <th>environ</th>\n      <th>culture</th>\n      <th>equality</th>\n      <th>pervote</th>\n      <th>rile</th>\n      <th>electionDate</th>\n      <th>partyname</th>\n    </tr>\n  </thead>\n  <tbody>\n    <tr>\n      <th>0</th>\n      <td>1989-01-01</td>\n      <td>10</td>\n      <td>Netherlands</td>\n      <td>8.7</td>\n      <td>3.4</td>\n      <td>6.1</td>\n      <td>4.07</td>\n      <td>-15.0</td>\n      <td>1989-09-01</td>\n      <td>Green Left</td>\n    </tr>\n    <tr>\n      <th>1</th>\n      <td>1990-01-01</td>\n      <td>10</td>\n      <td>Netherlands</td>\n      <td>8.7</td>\n      <td>3.4</td>\n      <td>6.1</td>\n      <td>4.07</td>\n      <td>-15.0</td>\n      <td>1989-09-01</td>\n      <td>Green Left</td>\n    </tr>\n    <tr>\n      <th>2</th>\n      <td>1991-01-01</td>\n      <td>10</td>\n      <td>Netherlands</td>\n      <td>8.7</td>\n      <td>3.4</td>\n      <td>6.1</td>\n      <td>4.07</td>\n      <td>-15.0</td>\n      <td>1989-09-01</td>\n      <td>Green Left</td>\n    </tr>\n    <tr>\n      <th>3</th>\n      <td>1992-01-01</td>\n      <td>10</td>\n      <td>Netherlands</td>\n      <td>8.7</td>\n      <td>3.4</td>\n      <td>6.1</td>\n      <td>4.07</td>\n      <td>-15.0</td>\n      <td>1989-09-01</td>\n      <td>Green Left</td>\n    </tr>\n    <tr>\n      <th>4</th>\n      <td>1993-01-01</td>\n      <td>10</td>\n      <td>Netherlands</td>\n      <td>8.7</td>\n      <td>3.4</td>\n      <td>6.1</td>\n      <td>4.07</td>\n      <td>-15.0</td>\n      <td>1989-09-01</td>\n      <td>Green Left</td>\n    </tr>\n    <tr>\n      <th>...</th>\n      <td>...</td>\n      <td>...</td>\n      <td>...</td>\n      <td>...</td>\n      <td>...</td>\n      <td>...</td>\n      <td>...</td>\n      <td>...</td>\n      <td>...</td>\n      <td>...</td>\n    </tr>\n    <tr>\n      <th>228</th>\n      <td>2016-01-01</td>\n      <td>95</td>\n      <td>Estonia</td>\n      <td>0.0</td>\n      <td>0.0</td>\n      <td>0.0</td>\n      <td>7.12</td>\n      <td>62.5</td>\n      <td>1992-09-01</td>\n      <td>Electoral Union ‘Independent Royalists'</td>\n    </tr>\n    <tr>\n      <th>229</th>\n      <td>2017-01-01</td>\n      <td>95</td>\n      <td>Estonia</td>\n      <td>0.0</td>\n      <td>0.0</td>\n      <td>0.0</td>\n      <td>7.12</td>\n      <td>62.5</td>\n      <td>1992-09-01</td>\n      <td>Electoral Union ‘Independent Royalists'</td>\n    </tr>\n    <tr>\n      <th>230</th>\n      <td>2018-01-01</td>\n      <td>95</td>\n      <td>Estonia</td>\n      <td>0.0</td>\n      <td>0.0</td>\n      <td>0.0</td>\n      <td>7.12</td>\n      <td>62.5</td>\n      <td>1992-09-01</td>\n      <td>Electoral Union ‘Independent Royalists'</td>\n    </tr>\n    <tr>\n      <th>231</th>\n      <td>2019-01-01</td>\n      <td>95</td>\n      <td>Estonia</td>\n      <td>0.0</td>\n      <td>0.0</td>\n      <td>0.0</td>\n      <td>7.12</td>\n      <td>62.5</td>\n      <td>1992-09-01</td>\n      <td>Electoral Union ‘Independent Royalists'</td>\n    </tr>\n    <tr>\n      <th>232</th>\n      <td>2020-01-01</td>\n      <td>95</td>\n      <td>Estonia</td>\n      <td>0.0</td>\n      <td>0.0</td>\n      <td>0.0</td>\n      <td>7.12</td>\n      <td>62.5</td>\n      <td>1992-09-01</td>\n      <td>Electoral Union ‘Independent Royalists'</td>\n    </tr>\n  </tbody>\n</table>\n<p>9018 rows × 10 columns</p>\n</div>"
     },
     "metadata": {},
     "execution_count": 1
    }
   ],
   "source": [
    "import pandas as pd\n",
    "import glob\n",
    "\n",
    "pd.set_option(\"display.precision\", 2) #always just show 2 decimal points\n",
    "\n",
    "\n",
    "#Read in all country data\n",
    "path = r'/Users/rvpazos/Documents/mvtec/ManifestoProject/workshop2-manifesto-rebeccaFolder/country-data' # use your path\n",
    "all_files = glob.glob(path + \"/*.csv\")\n",
    "\n",
    "all_files\n",
    "li = []\n",
    "for filename in all_files:\n",
    "    df = pd.read_csv(filename,header=0)\n",
    "    li.append(df)\n",
    "\n",
    "allData = pd.concat(li, axis=0)\n",
    "\n",
    "# allData.reset_index()\n",
    "# allData = allData.set_index(pd.DatetimeIndex(allData['index'])).drop(['index'], axis=1)\n",
    "\n",
    "allData = allData.rename(columns={'index':'yearObject'})\n",
    "\n",
    "allData\n",
    "\n"
   ]
  },
  {
   "cell_type": "code",
   "execution_count": 2,
   "metadata": {},
   "outputs": [
    {
     "output_type": "execute_result",
     "data": {
      "text/plain": [
       "   yearObject  parfam  countryname  environ  culture  equality  pervote  rile  \\\n",
       "0  1989-01-01      10  Netherlands      8.7      3.4       6.1     4.07 -15.0   \n",
       "1  1990-01-01      10  Netherlands      8.7      3.4       6.1     4.07 -15.0   \n",
       "2  1991-01-01      10  Netherlands      8.7      3.4       6.1     4.07 -15.0   \n",
       "3  1992-01-01      10  Netherlands      8.7      3.4       6.1     4.07 -15.0   \n",
       "4  1993-01-01      10  Netherlands      8.7      3.4       6.1     4.07 -15.0   \n",
       "\n",
       "  electionDate   partyname parfamName  \n",
       "0   1989-09-01  Green Left        ECO  \n",
       "1   1989-09-01  Green Left        ECO  \n",
       "2   1989-09-01  Green Left        ECO  \n",
       "3   1989-09-01  Green Left        ECO  \n",
       "4   1989-09-01  Green Left        ECO  "
      ],
      "text/html": "<div>\n<style scoped>\n    .dataframe tbody tr th:only-of-type {\n        vertical-align: middle;\n    }\n\n    .dataframe tbody tr th {\n        vertical-align: top;\n    }\n\n    .dataframe thead th {\n        text-align: right;\n    }\n</style>\n<table border=\"1\" class=\"dataframe\">\n  <thead>\n    <tr style=\"text-align: right;\">\n      <th></th>\n      <th>yearObject</th>\n      <th>parfam</th>\n      <th>countryname</th>\n      <th>environ</th>\n      <th>culture</th>\n      <th>equality</th>\n      <th>pervote</th>\n      <th>rile</th>\n      <th>electionDate</th>\n      <th>partyname</th>\n      <th>parfamName</th>\n    </tr>\n  </thead>\n  <tbody>\n    <tr>\n      <th>0</th>\n      <td>1989-01-01</td>\n      <td>10</td>\n      <td>Netherlands</td>\n      <td>8.7</td>\n      <td>3.4</td>\n      <td>6.1</td>\n      <td>4.07</td>\n      <td>-15.0</td>\n      <td>1989-09-01</td>\n      <td>Green Left</td>\n      <td>ECO</td>\n    </tr>\n    <tr>\n      <th>1</th>\n      <td>1990-01-01</td>\n      <td>10</td>\n      <td>Netherlands</td>\n      <td>8.7</td>\n      <td>3.4</td>\n      <td>6.1</td>\n      <td>4.07</td>\n      <td>-15.0</td>\n      <td>1989-09-01</td>\n      <td>Green Left</td>\n      <td>ECO</td>\n    </tr>\n    <tr>\n      <th>2</th>\n      <td>1991-01-01</td>\n      <td>10</td>\n      <td>Netherlands</td>\n      <td>8.7</td>\n      <td>3.4</td>\n      <td>6.1</td>\n      <td>4.07</td>\n      <td>-15.0</td>\n      <td>1989-09-01</td>\n      <td>Green Left</td>\n      <td>ECO</td>\n    </tr>\n    <tr>\n      <th>3</th>\n      <td>1992-01-01</td>\n      <td>10</td>\n      <td>Netherlands</td>\n      <td>8.7</td>\n      <td>3.4</td>\n      <td>6.1</td>\n      <td>4.07</td>\n      <td>-15.0</td>\n      <td>1989-09-01</td>\n      <td>Green Left</td>\n      <td>ECO</td>\n    </tr>\n    <tr>\n      <th>4</th>\n      <td>1993-01-01</td>\n      <td>10</td>\n      <td>Netherlands</td>\n      <td>8.7</td>\n      <td>3.4</td>\n      <td>6.1</td>\n      <td>4.07</td>\n      <td>-15.0</td>\n      <td>1989-09-01</td>\n      <td>Green Left</td>\n      <td>ECO</td>\n    </tr>\n  </tbody>\n</table>\n</div>"
     },
     "metadata": {},
     "execution_count": 2
    }
   ],
   "source": [
    "#Parfam renamed\n",
    "import numpy as np \n",
    "\n",
    "#Change parfam codes to abbreviations for better identification\n",
    "conditions = [\n",
    "    (allData['parfam'] == 10),\n",
    "    (allData['parfam'] == 20),\n",
    "    (allData['parfam'] == 30),\n",
    "    (allData['parfam'] == 40),\n",
    "    (allData['parfam'] == 50),\n",
    "    (allData['parfam'] == 60),\n",
    "    (allData['parfam'] == 70),\n",
    "    (allData['parfam'] == 80),\n",
    "    (allData['parfam'] == 90),\n",
    "    (allData['parfam'] == 95),\n",
    "    (allData['parfam'] == 98),\n",
    "]\n",
    "\n",
    "values = ['ECO','LEF','SOC','LIB','CHR', 'CON', 'NAT', 'AGR', 'ETH', 'SIP', 'DIV']\n",
    "\n",
    "allData['parfamName'] = np.select(conditions,values)\n",
    "\n",
    "\n",
    "allData.head()\n"
   ]
  },
  {
   "cell_type": "code",
   "execution_count": 3,
   "metadata": {},
   "outputs": [],
   "source": [
    "#Extract year\n",
    "\n",
    "allData['yearObject'] = pd.to_datetime(allData['yearObject'], format='%Y-%m-%d')\n",
    "allData['yearIndex'] = allData['yearObject'].dt.year\n",
    "\n",
    "allData.drop('yearObject', axis='columns', inplace = True)\n"
   ]
  },
  {
   "cell_type": "code",
   "execution_count": 4,
   "metadata": {},
   "outputs": [
    {
     "output_type": "execute_result",
     "data": {
      "text/plain": [
       "     parfam  countryname  environ  culture  equality  pervote  rile  \\\n",
       "0        10  Netherlands      8.7      3.4       6.1     4.07 -15.0   \n",
       "1        10  Netherlands      8.7      3.4       6.1     4.07 -15.0   \n",
       "2        10  Netherlands      8.7      3.4       6.1     4.07 -15.0   \n",
       "3        10  Netherlands      8.7      3.4       6.1     4.07 -15.0   \n",
       "4        10  Netherlands      8.7      3.4       6.1     4.07 -15.0   \n",
       "..      ...          ...      ...      ...       ...      ...   ...   \n",
       "228      95      Estonia      0.0      0.0       0.0     7.12  62.5   \n",
       "229      95      Estonia      0.0      0.0       0.0     7.12  62.5   \n",
       "230      95      Estonia      0.0      0.0       0.0     7.12  62.5   \n",
       "231      95      Estonia      0.0      0.0       0.0     7.12  62.5   \n",
       "232      95      Estonia      0.0      0.0       0.0     7.12  62.5   \n",
       "\n",
       "    electionDate                                partyname parfamName  \\\n",
       "0     1989-09-01                               Green Left        ECO   \n",
       "1     1989-09-01                               Green Left        ECO   \n",
       "2     1989-09-01                               Green Left        ECO   \n",
       "3     1989-09-01                               Green Left        ECO   \n",
       "4     1989-09-01                               Green Left        ECO   \n",
       "..           ...                                      ...        ...   \n",
       "228   1992-09-01  Electoral Union ‘Independent Royalists'        SIP   \n",
       "229   1992-09-01  Electoral Union ‘Independent Royalists'        SIP   \n",
       "230   1992-09-01  Electoral Union ‘Independent Royalists'        SIP   \n",
       "231   1992-09-01  Electoral Union ‘Independent Royalists'        SIP   \n",
       "232   1992-09-01  Electoral Union ‘Independent Royalists'        SIP   \n",
       "\n",
       "     yearIndex  staticRile  \n",
       "0         1989      -13.65  \n",
       "1         1990      -13.65  \n",
       "2         1991      -13.65  \n",
       "3         1992      -13.65  \n",
       "4         1993      -13.65  \n",
       "..         ...         ...  \n",
       "228       2016        3.36  \n",
       "229       2017        3.36  \n",
       "230       2018        3.36  \n",
       "231       2019        3.36  \n",
       "232       2020        3.36  \n",
       "\n",
       "[9018 rows x 12 columns]"
      ],
      "text/html": "<div>\n<style scoped>\n    .dataframe tbody tr th:only-of-type {\n        vertical-align: middle;\n    }\n\n    .dataframe tbody tr th {\n        vertical-align: top;\n    }\n\n    .dataframe thead th {\n        text-align: right;\n    }\n</style>\n<table border=\"1\" class=\"dataframe\">\n  <thead>\n    <tr style=\"text-align: right;\">\n      <th></th>\n      <th>parfam</th>\n      <th>countryname</th>\n      <th>environ</th>\n      <th>culture</th>\n      <th>equality</th>\n      <th>pervote</th>\n      <th>rile</th>\n      <th>electionDate</th>\n      <th>partyname</th>\n      <th>parfamName</th>\n      <th>yearIndex</th>\n      <th>staticRile</th>\n    </tr>\n  </thead>\n  <tbody>\n    <tr>\n      <th>0</th>\n      <td>10</td>\n      <td>Netherlands</td>\n      <td>8.7</td>\n      <td>3.4</td>\n      <td>6.1</td>\n      <td>4.07</td>\n      <td>-15.0</td>\n      <td>1989-09-01</td>\n      <td>Green Left</td>\n      <td>ECO</td>\n      <td>1989</td>\n      <td>-13.65</td>\n    </tr>\n    <tr>\n      <th>1</th>\n      <td>10</td>\n      <td>Netherlands</td>\n      <td>8.7</td>\n      <td>3.4</td>\n      <td>6.1</td>\n      <td>4.07</td>\n      <td>-15.0</td>\n      <td>1989-09-01</td>\n      <td>Green Left</td>\n      <td>ECO</td>\n      <td>1990</td>\n      <td>-13.65</td>\n    </tr>\n    <tr>\n      <th>2</th>\n      <td>10</td>\n      <td>Netherlands</td>\n      <td>8.7</td>\n      <td>3.4</td>\n      <td>6.1</td>\n      <td>4.07</td>\n      <td>-15.0</td>\n      <td>1989-09-01</td>\n      <td>Green Left</td>\n      <td>ECO</td>\n      <td>1991</td>\n      <td>-13.65</td>\n    </tr>\n    <tr>\n      <th>3</th>\n      <td>10</td>\n      <td>Netherlands</td>\n      <td>8.7</td>\n      <td>3.4</td>\n      <td>6.1</td>\n      <td>4.07</td>\n      <td>-15.0</td>\n      <td>1989-09-01</td>\n      <td>Green Left</td>\n      <td>ECO</td>\n      <td>1992</td>\n      <td>-13.65</td>\n    </tr>\n    <tr>\n      <th>4</th>\n      <td>10</td>\n      <td>Netherlands</td>\n      <td>8.7</td>\n      <td>3.4</td>\n      <td>6.1</td>\n      <td>4.07</td>\n      <td>-15.0</td>\n      <td>1989-09-01</td>\n      <td>Green Left</td>\n      <td>ECO</td>\n      <td>1993</td>\n      <td>-13.65</td>\n    </tr>\n    <tr>\n      <th>...</th>\n      <td>...</td>\n      <td>...</td>\n      <td>...</td>\n      <td>...</td>\n      <td>...</td>\n      <td>...</td>\n      <td>...</td>\n      <td>...</td>\n      <td>...</td>\n      <td>...</td>\n      <td>...</td>\n      <td>...</td>\n    </tr>\n    <tr>\n      <th>228</th>\n      <td>95</td>\n      <td>Estonia</td>\n      <td>0.0</td>\n      <td>0.0</td>\n      <td>0.0</td>\n      <td>7.12</td>\n      <td>62.5</td>\n      <td>1992-09-01</td>\n      <td>Electoral Union ‘Independent Royalists'</td>\n      <td>SIP</td>\n      <td>2016</td>\n      <td>3.36</td>\n    </tr>\n    <tr>\n      <th>229</th>\n      <td>95</td>\n      <td>Estonia</td>\n      <td>0.0</td>\n      <td>0.0</td>\n      <td>0.0</td>\n      <td>7.12</td>\n      <td>62.5</td>\n      <td>1992-09-01</td>\n      <td>Electoral Union ‘Independent Royalists'</td>\n      <td>SIP</td>\n      <td>2017</td>\n      <td>3.36</td>\n    </tr>\n    <tr>\n      <th>230</th>\n      <td>95</td>\n      <td>Estonia</td>\n      <td>0.0</td>\n      <td>0.0</td>\n      <td>0.0</td>\n      <td>7.12</td>\n      <td>62.5</td>\n      <td>1992-09-01</td>\n      <td>Electoral Union ‘Independent Royalists'</td>\n      <td>SIP</td>\n      <td>2018</td>\n      <td>3.36</td>\n    </tr>\n    <tr>\n      <th>231</th>\n      <td>95</td>\n      <td>Estonia</td>\n      <td>0.0</td>\n      <td>0.0</td>\n      <td>0.0</td>\n      <td>7.12</td>\n      <td>62.5</td>\n      <td>1992-09-01</td>\n      <td>Electoral Union ‘Independent Royalists'</td>\n      <td>SIP</td>\n      <td>2019</td>\n      <td>3.36</td>\n    </tr>\n    <tr>\n      <th>232</th>\n      <td>95</td>\n      <td>Estonia</td>\n      <td>0.0</td>\n      <td>0.0</td>\n      <td>0.0</td>\n      <td>7.12</td>\n      <td>62.5</td>\n      <td>1992-09-01</td>\n      <td>Electoral Union ‘Independent Royalists'</td>\n      <td>SIP</td>\n      <td>2020</td>\n      <td>3.36</td>\n    </tr>\n  </tbody>\n</table>\n<p>9018 rows × 12 columns</p>\n</div>"
     },
     "metadata": {},
     "execution_count": 4
    }
   ],
   "source": [
    "#Add column with static rile instead of dynamic just in case\n",
    "\n",
    "conditionsStatic = [\n",
    "    (allData['parfam'] == 10),\n",
    "    (allData['parfam'] == 20),\n",
    "    (allData['parfam'] == 30),\n",
    "    (allData['parfam'] == 40),\n",
    "    (allData['parfam'] == 50),\n",
    "    (allData['parfam'] == 60),\n",
    "    (allData['parfam'] == 70),\n",
    "    (allData['parfam'] == 80),\n",
    "    (allData['parfam'] == 90),\n",
    "    (allData['parfam'] == 95),\n",
    "    (allData['parfam'] == 98),\n",
    "]\n",
    "\n",
    "valuesStatic = [-13.65,-23.66,-14,4.61,6.13,11.64,10.25,1.01,-9.04,3.36,-10.52]\n",
    "\n",
    "allData['staticRile'] = np.select(conditionsStatic,valuesStatic)\n",
    "\n",
    "allData\n"
   ]
  },
  {
   "cell_type": "code",
   "execution_count": 5,
   "metadata": {},
   "outputs": [
    {
     "output_type": "execute_result",
     "data": {
      "text/plain": [
       "            yearIndex  parfam  countryname  environ  culture  equality  \\\n",
       "parfamName                                                               \n",
       "ECO              1989      10  Netherlands      8.7      3.4       6.1   \n",
       "ECO              1990      10  Netherlands      8.7      3.4       6.1   \n",
       "ECO              1991      10  Netherlands      8.7      3.4       6.1   \n",
       "ECO              1992      10  Netherlands      8.7      3.4       6.1   \n",
       "ECO              1993      10  Netherlands      8.7      3.4       6.1   \n",
       "...               ...     ...          ...      ...      ...       ...   \n",
       "SIP              2016      95      Estonia      0.0      0.0       0.0   \n",
       "SIP              2017      95      Estonia      0.0      0.0       0.0   \n",
       "SIP              2018      95      Estonia      0.0      0.0       0.0   \n",
       "SIP              2019      95      Estonia      0.0      0.0       0.0   \n",
       "SIP              2020      95      Estonia      0.0      0.0       0.0   \n",
       "\n",
       "            pervote  rile  staticRile electionDate  \\\n",
       "parfamName                                           \n",
       "ECO            4.07 -15.0      -13.65   1989-09-01   \n",
       "ECO            4.07 -15.0      -13.65   1989-09-01   \n",
       "ECO            4.07 -15.0      -13.65   1989-09-01   \n",
       "ECO            4.07 -15.0      -13.65   1989-09-01   \n",
       "ECO            4.07 -15.0      -13.65   1989-09-01   \n",
       "...             ...   ...         ...          ...   \n",
       "SIP            7.12  62.5        3.36   1992-09-01   \n",
       "SIP            7.12  62.5        3.36   1992-09-01   \n",
       "SIP            7.12  62.5        3.36   1992-09-01   \n",
       "SIP            7.12  62.5        3.36   1992-09-01   \n",
       "SIP            7.12  62.5        3.36   1992-09-01   \n",
       "\n",
       "                                          partyname  \n",
       "parfamName                                           \n",
       "ECO                                      Green Left  \n",
       "ECO                                      Green Left  \n",
       "ECO                                      Green Left  \n",
       "ECO                                      Green Left  \n",
       "ECO                                      Green Left  \n",
       "...                                             ...  \n",
       "SIP         Electoral Union ‘Independent Royalists'  \n",
       "SIP         Electoral Union ‘Independent Royalists'  \n",
       "SIP         Electoral Union ‘Independent Royalists'  \n",
       "SIP         Electoral Union ‘Independent Royalists'  \n",
       "SIP         Electoral Union ‘Independent Royalists'  \n",
       "\n",
       "[9018 rows x 11 columns]"
      ],
      "text/html": "<div>\n<style scoped>\n    .dataframe tbody tr th:only-of-type {\n        vertical-align: middle;\n    }\n\n    .dataframe tbody tr th {\n        vertical-align: top;\n    }\n\n    .dataframe thead th {\n        text-align: right;\n    }\n</style>\n<table border=\"1\" class=\"dataframe\">\n  <thead>\n    <tr style=\"text-align: right;\">\n      <th></th>\n      <th>yearIndex</th>\n      <th>parfam</th>\n      <th>countryname</th>\n      <th>environ</th>\n      <th>culture</th>\n      <th>equality</th>\n      <th>pervote</th>\n      <th>rile</th>\n      <th>staticRile</th>\n      <th>electionDate</th>\n      <th>partyname</th>\n    </tr>\n    <tr>\n      <th>parfamName</th>\n      <th></th>\n      <th></th>\n      <th></th>\n      <th></th>\n      <th></th>\n      <th></th>\n      <th></th>\n      <th></th>\n      <th></th>\n      <th></th>\n      <th></th>\n    </tr>\n  </thead>\n  <tbody>\n    <tr>\n      <th>ECO</th>\n      <td>1989</td>\n      <td>10</td>\n      <td>Netherlands</td>\n      <td>8.7</td>\n      <td>3.4</td>\n      <td>6.1</td>\n      <td>4.07</td>\n      <td>-15.0</td>\n      <td>-13.65</td>\n      <td>1989-09-01</td>\n      <td>Green Left</td>\n    </tr>\n    <tr>\n      <th>ECO</th>\n      <td>1990</td>\n      <td>10</td>\n      <td>Netherlands</td>\n      <td>8.7</td>\n      <td>3.4</td>\n      <td>6.1</td>\n      <td>4.07</td>\n      <td>-15.0</td>\n      <td>-13.65</td>\n      <td>1989-09-01</td>\n      <td>Green Left</td>\n    </tr>\n    <tr>\n      <th>ECO</th>\n      <td>1991</td>\n      <td>10</td>\n      <td>Netherlands</td>\n      <td>8.7</td>\n      <td>3.4</td>\n      <td>6.1</td>\n      <td>4.07</td>\n      <td>-15.0</td>\n      <td>-13.65</td>\n      <td>1989-09-01</td>\n      <td>Green Left</td>\n    </tr>\n    <tr>\n      <th>ECO</th>\n      <td>1992</td>\n      <td>10</td>\n      <td>Netherlands</td>\n      <td>8.7</td>\n      <td>3.4</td>\n      <td>6.1</td>\n      <td>4.07</td>\n      <td>-15.0</td>\n      <td>-13.65</td>\n      <td>1989-09-01</td>\n      <td>Green Left</td>\n    </tr>\n    <tr>\n      <th>ECO</th>\n      <td>1993</td>\n      <td>10</td>\n      <td>Netherlands</td>\n      <td>8.7</td>\n      <td>3.4</td>\n      <td>6.1</td>\n      <td>4.07</td>\n      <td>-15.0</td>\n      <td>-13.65</td>\n      <td>1989-09-01</td>\n      <td>Green Left</td>\n    </tr>\n    <tr>\n      <th>...</th>\n      <td>...</td>\n      <td>...</td>\n      <td>...</td>\n      <td>...</td>\n      <td>...</td>\n      <td>...</td>\n      <td>...</td>\n      <td>...</td>\n      <td>...</td>\n      <td>...</td>\n      <td>...</td>\n    </tr>\n    <tr>\n      <th>SIP</th>\n      <td>2016</td>\n      <td>95</td>\n      <td>Estonia</td>\n      <td>0.0</td>\n      <td>0.0</td>\n      <td>0.0</td>\n      <td>7.12</td>\n      <td>62.5</td>\n      <td>3.36</td>\n      <td>1992-09-01</td>\n      <td>Electoral Union ‘Independent Royalists'</td>\n    </tr>\n    <tr>\n      <th>SIP</th>\n      <td>2017</td>\n      <td>95</td>\n      <td>Estonia</td>\n      <td>0.0</td>\n      <td>0.0</td>\n      <td>0.0</td>\n      <td>7.12</td>\n      <td>62.5</td>\n      <td>3.36</td>\n      <td>1992-09-01</td>\n      <td>Electoral Union ‘Independent Royalists'</td>\n    </tr>\n    <tr>\n      <th>SIP</th>\n      <td>2018</td>\n      <td>95</td>\n      <td>Estonia</td>\n      <td>0.0</td>\n      <td>0.0</td>\n      <td>0.0</td>\n      <td>7.12</td>\n      <td>62.5</td>\n      <td>3.36</td>\n      <td>1992-09-01</td>\n      <td>Electoral Union ‘Independent Royalists'</td>\n    </tr>\n    <tr>\n      <th>SIP</th>\n      <td>2019</td>\n      <td>95</td>\n      <td>Estonia</td>\n      <td>0.0</td>\n      <td>0.0</td>\n      <td>0.0</td>\n      <td>7.12</td>\n      <td>62.5</td>\n      <td>3.36</td>\n      <td>1992-09-01</td>\n      <td>Electoral Union ‘Independent Royalists'</td>\n    </tr>\n    <tr>\n      <th>SIP</th>\n      <td>2020</td>\n      <td>95</td>\n      <td>Estonia</td>\n      <td>0.0</td>\n      <td>0.0</td>\n      <td>0.0</td>\n      <td>7.12</td>\n      <td>62.5</td>\n      <td>3.36</td>\n      <td>1992-09-01</td>\n      <td>Electoral Union ‘Independent Royalists'</td>\n    </tr>\n  </tbody>\n</table>\n<p>9018 rows × 11 columns</p>\n</div>"
     },
     "metadata": {},
     "execution_count": 5
    }
   ],
   "source": [
    "\n",
    "allData = allData[['yearIndex','parfamName','parfam','countryname','environ','culture','equality','pervote','rile','staticRile','electionDate','partyname']]\n",
    "df2 = allData.set_index('parfamName')\n",
    "df2.to_csv('allCountries.csv')\n",
    "\n",
    "df2"
   ]
  },
  {
   "cell_type": "code",
   "execution_count": 6,
   "metadata": {},
   "outputs": [
    {
     "output_type": "execute_result",
     "data": {
      "text/plain": [
       "                      culture  environ  equality  parfamCount  pervote   rile  \\\n",
       "parfamName yearIndex                                                            \n",
       "AGR        1944          0.00     0.00      0.00            1    13.60  23.81   \n",
       "           1945          1.10     0.00      4.40            2    34.95  13.55   \n",
       "           1946          1.10     0.00      4.40            2    34.95  13.55   \n",
       "           1947          1.10     0.00      4.40            2    34.95  13.55   \n",
       "           1948          2.33     0.00     12.56            3    42.20  -4.63   \n",
       "...                       ...      ...       ...          ...      ...    ...   \n",
       "SOC        2016         83.14    88.64    226.87           29   612.85 -16.98   \n",
       "           2017         77.14    88.70    229.24           27   565.30 -15.31   \n",
       "           2018         85.92   102.60    193.29           27   548.48 -15.11   \n",
       "           2019         81.18   126.37    213.72           27   561.70 -17.59   \n",
       "           2020         79.06   123.29    204.29           26   533.44 -17.16   \n",
       "\n",
       "                      staticRile  avgVote  \n",
       "parfamName yearIndex                       \n",
       "AGR        1944             1.01    13.60  \n",
       "           1945             1.01    17.48  \n",
       "           1946             1.01    17.48  \n",
       "           1947             1.01    17.48  \n",
       "           1948             1.01    14.07  \n",
       "...                          ...      ...  \n",
       "SOC        2016           -14.00    21.13  \n",
       "           2017           -14.00    20.94  \n",
       "           2018           -14.00    20.31  \n",
       "           2019           -14.00    20.80  \n",
       "           2020           -14.00    20.52  \n",
       "\n",
       "[749 rows x 8 columns]"
      ],
      "text/html": "<div>\n<style scoped>\n    .dataframe tbody tr th:only-of-type {\n        vertical-align: middle;\n    }\n\n    .dataframe tbody tr th {\n        vertical-align: top;\n    }\n\n    .dataframe thead th {\n        text-align: right;\n    }\n</style>\n<table border=\"1\" class=\"dataframe\">\n  <thead>\n    <tr style=\"text-align: right;\">\n      <th></th>\n      <th></th>\n      <th>culture</th>\n      <th>environ</th>\n      <th>equality</th>\n      <th>parfamCount</th>\n      <th>pervote</th>\n      <th>rile</th>\n      <th>staticRile</th>\n      <th>avgVote</th>\n    </tr>\n    <tr>\n      <th>parfamName</th>\n      <th>yearIndex</th>\n      <th></th>\n      <th></th>\n      <th></th>\n      <th></th>\n      <th></th>\n      <th></th>\n      <th></th>\n      <th></th>\n    </tr>\n  </thead>\n  <tbody>\n    <tr>\n      <th rowspan=\"5\" valign=\"top\">AGR</th>\n      <th>1944</th>\n      <td>0.00</td>\n      <td>0.00</td>\n      <td>0.00</td>\n      <td>1</td>\n      <td>13.60</td>\n      <td>23.81</td>\n      <td>1.01</td>\n      <td>13.60</td>\n    </tr>\n    <tr>\n      <th>1945</th>\n      <td>1.10</td>\n      <td>0.00</td>\n      <td>4.40</td>\n      <td>2</td>\n      <td>34.95</td>\n      <td>13.55</td>\n      <td>1.01</td>\n      <td>17.48</td>\n    </tr>\n    <tr>\n      <th>1946</th>\n      <td>1.10</td>\n      <td>0.00</td>\n      <td>4.40</td>\n      <td>2</td>\n      <td>34.95</td>\n      <td>13.55</td>\n      <td>1.01</td>\n      <td>17.48</td>\n    </tr>\n    <tr>\n      <th>1947</th>\n      <td>1.10</td>\n      <td>0.00</td>\n      <td>4.40</td>\n      <td>2</td>\n      <td>34.95</td>\n      <td>13.55</td>\n      <td>1.01</td>\n      <td>17.48</td>\n    </tr>\n    <tr>\n      <th>1948</th>\n      <td>2.33</td>\n      <td>0.00</td>\n      <td>12.56</td>\n      <td>3</td>\n      <td>42.20</td>\n      <td>-4.63</td>\n      <td>1.01</td>\n      <td>14.07</td>\n    </tr>\n    <tr>\n      <th>...</th>\n      <th>...</th>\n      <td>...</td>\n      <td>...</td>\n      <td>...</td>\n      <td>...</td>\n      <td>...</td>\n      <td>...</td>\n      <td>...</td>\n      <td>...</td>\n    </tr>\n    <tr>\n      <th rowspan=\"5\" valign=\"top\">SOC</th>\n      <th>2016</th>\n      <td>83.14</td>\n      <td>88.64</td>\n      <td>226.87</td>\n      <td>29</td>\n      <td>612.85</td>\n      <td>-16.98</td>\n      <td>-14.00</td>\n      <td>21.13</td>\n    </tr>\n    <tr>\n      <th>2017</th>\n      <td>77.14</td>\n      <td>88.70</td>\n      <td>229.24</td>\n      <td>27</td>\n      <td>565.30</td>\n      <td>-15.31</td>\n      <td>-14.00</td>\n      <td>20.94</td>\n    </tr>\n    <tr>\n      <th>2018</th>\n      <td>85.92</td>\n      <td>102.60</td>\n      <td>193.29</td>\n      <td>27</td>\n      <td>548.48</td>\n      <td>-15.11</td>\n      <td>-14.00</td>\n      <td>20.31</td>\n    </tr>\n    <tr>\n      <th>2019</th>\n      <td>81.18</td>\n      <td>126.37</td>\n      <td>213.72</td>\n      <td>27</td>\n      <td>561.70</td>\n      <td>-17.59</td>\n      <td>-14.00</td>\n      <td>20.80</td>\n    </tr>\n    <tr>\n      <th>2020</th>\n      <td>79.06</td>\n      <td>123.29</td>\n      <td>204.29</td>\n      <td>26</td>\n      <td>533.44</td>\n      <td>-17.16</td>\n      <td>-14.00</td>\n      <td>20.52</td>\n    </tr>\n  </tbody>\n</table>\n<p>749 rows × 8 columns</p>\n</div>"
     },
     "metadata": {},
     "execution_count": 6
    }
   ],
   "source": [
    "#create grouped file for CSV\n",
    "\n",
    "import numpy as np\n",
    "\n",
    "pt = pd.pivot_table(df2, index={'parfamName','yearIndex'}, values=['parfam','environ','culture','equality','pervote','rile','staticRile'], aggfunc={'parfam' : 'count', 'environ' : 'sum','culture' : 'sum','equality' : 'sum', 'pervote' : 'sum', 'rile' : 'mean', 'staticRile':'min'}, dropna=True)\n",
    "pt = pt.rename(columns={'parfam':'parfamCount'})\n",
    "pt['avgVote'] = (pt['pervote'])/(pt['parfamCount'])\n",
    "\n",
    "pt"
   ]
  },
  {
   "cell_type": "code",
   "execution_count": 7,
   "metadata": {},
   "outputs": [],
   "source": [
    "pt.to_csv('grouped-data.csv')"
   ]
  },
  {
   "cell_type": "code",
   "execution_count": 22,
   "metadata": {},
   "outputs": [],
   "source": [
    "import json\n",
    "\n",
    "# pt_json = pt.reset_index()\n",
    "# pt_json = pt_json.set_index({'parfamName','yearIndex'})\n",
    "# pt_json\n",
    "\n",
    "result = pt.to_json('test2.json',orient='index')\n",
    "\n",
    "\n"
   ]
  },
  {
   "cell_type": "code",
   "execution_count": 8,
   "metadata": {},
   "outputs": [],
   "source": [
    "spainDF = allData.loc[(allData['countryname']=='Spain')] \n",
    "\n",
    "decadesFilter = ['1990-01-01','1995-01-01','2000-01-01','2005-01-01','2010-01-01','2015-01-01','2020-01-01']\n",
    "filteredSpain = spainDF[spainDF.index.isin(decadesFilter)]\n",
    "filteredSpain\n",
    "\n",
    "\n",
    "ptSpain = pd.pivot_table(filteredSpain, index=['index','parfamName'], values=['parfam','per503','pervote','environWeighted'], aggfunc={'parfam' : 'count', 'per503' : 'sum', 'pervote' : 'sum', 'environWeighted' : 'sum'}, dropna=True)\n",
    "ptSpain['avgVote'] = (ptSpain['pervote'])/(ptSpain['parfam'])\n",
    "\n",
    "ptSpain.to_csv('spain-grouped.csv')"
   ]
  },
  {
   "cell_type": "code",
   "execution_count": 95,
   "metadata": {},
   "outputs": [
    {
     "output_type": "execute_result",
     "data": {
      "text/plain": [
       "index       parfam\n",
       "1944-01-01  20         1\n",
       "            30         1\n",
       "            40         1\n",
       "            60         1\n",
       "            80         1\n",
       "                      ..\n",
       "2020-01-01  70        24\n",
       "            80        12\n",
       "            90        13\n",
       "            95        16\n",
       "            98         4\n",
       "Name: parfam, Length: 750, dtype: int64"
      ]
     },
     "metadata": {},
     "execution_count": 95
    }
   ],
   "source": [
    "n_by_fam = allData.groupby(['index','parfam'])['parfam'].count()\n",
    "n_by_fam\n"
   ]
  },
  {
   "cell_type": "code",
   "execution_count": null,
   "metadata": {},
   "outputs": [],
   "source": []
  }
 ]
}