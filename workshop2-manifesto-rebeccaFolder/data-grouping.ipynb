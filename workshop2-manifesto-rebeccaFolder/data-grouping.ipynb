{
 "metadata": {
  "language_info": {
   "codemirror_mode": {
    "name": "ipython",
    "version": 3
   },
   "file_extension": ".py",
   "mimetype": "text/x-python",
   "name": "python",
   "nbconvert_exporter": "python",
   "pygments_lexer": "ipython3",
   "version": "3.8.3"
  },
  "orig_nbformat": 2,
  "kernelspec": {
   "name": "python383jvsc74a57bd0dca0ade3e726a953b501b15e8e990130d2b7799f14cfd9f4271676035ebe5511",
   "display_name": "Python 3.8.3 64-bit ('base': conda)"
  }
 },
 "nbformat": 4,
 "nbformat_minor": 2,
 "cells": [
  {
   "cell_type": "code",
   "execution_count": 1,
   "metadata": {},
   "outputs": [
    {
     "output_type": "execute_result",
     "data": {
      "text/plain": [
       "            parfam  countryname  per503  pervote electionDate  \\\n",
       "index                                                           \n",
       "1989-01-01      10  Netherlands     6.1     4.07   1989-09-01   \n",
       "1990-01-01      10  Netherlands     6.1     4.07   1989-09-01   \n",
       "1991-01-01      10  Netherlands     6.1     4.07   1989-09-01   \n",
       "1992-01-01      10  Netherlands     6.1     4.07   1989-09-01   \n",
       "1993-01-01      10  Netherlands     6.1     4.07   1989-09-01   \n",
       "...            ...          ...     ...      ...          ...   \n",
       "2016-01-01      95      Estonia     0.0     7.12   1992-09-01   \n",
       "2017-01-01      95      Estonia     0.0     7.12   1992-09-01   \n",
       "2018-01-01      95      Estonia     0.0     7.12   1992-09-01   \n",
       "2019-01-01      95      Estonia     0.0     7.12   1992-09-01   \n",
       "2020-01-01      95      Estonia     0.0     7.12   1992-09-01   \n",
       "\n",
       "                                          partyname  environWeighted  \n",
       "index                                                                 \n",
       "1989-01-01                               Green Left            24.85  \n",
       "1990-01-01                               Green Left            24.85  \n",
       "1991-01-01                               Green Left            24.85  \n",
       "1992-01-01                               Green Left            24.85  \n",
       "1993-01-01                               Green Left            24.85  \n",
       "...                                             ...              ...  \n",
       "2016-01-01  Electoral Union ‘Independent Royalists'             0.00  \n",
       "2017-01-01  Electoral Union ‘Independent Royalists'             0.00  \n",
       "2018-01-01  Electoral Union ‘Independent Royalists'             0.00  \n",
       "2019-01-01  Electoral Union ‘Independent Royalists'             0.00  \n",
       "2020-01-01  Electoral Union ‘Independent Royalists'             0.00  \n",
       "\n",
       "[9058 rows x 7 columns]"
      ],
      "text/html": "<div>\n<style scoped>\n    .dataframe tbody tr th:only-of-type {\n        vertical-align: middle;\n    }\n\n    .dataframe tbody tr th {\n        vertical-align: top;\n    }\n\n    .dataframe thead th {\n        text-align: right;\n    }\n</style>\n<table border=\"1\" class=\"dataframe\">\n  <thead>\n    <tr style=\"text-align: right;\">\n      <th></th>\n      <th>parfam</th>\n      <th>countryname</th>\n      <th>per503</th>\n      <th>pervote</th>\n      <th>electionDate</th>\n      <th>partyname</th>\n      <th>environWeighted</th>\n    </tr>\n    <tr>\n      <th>index</th>\n      <th></th>\n      <th></th>\n      <th></th>\n      <th></th>\n      <th></th>\n      <th></th>\n      <th></th>\n    </tr>\n  </thead>\n  <tbody>\n    <tr>\n      <th>1989-01-01</th>\n      <td>10</td>\n      <td>Netherlands</td>\n      <td>6.1</td>\n      <td>4.07</td>\n      <td>1989-09-01</td>\n      <td>Green Left</td>\n      <td>24.85</td>\n    </tr>\n    <tr>\n      <th>1990-01-01</th>\n      <td>10</td>\n      <td>Netherlands</td>\n      <td>6.1</td>\n      <td>4.07</td>\n      <td>1989-09-01</td>\n      <td>Green Left</td>\n      <td>24.85</td>\n    </tr>\n    <tr>\n      <th>1991-01-01</th>\n      <td>10</td>\n      <td>Netherlands</td>\n      <td>6.1</td>\n      <td>4.07</td>\n      <td>1989-09-01</td>\n      <td>Green Left</td>\n      <td>24.85</td>\n    </tr>\n    <tr>\n      <th>1992-01-01</th>\n      <td>10</td>\n      <td>Netherlands</td>\n      <td>6.1</td>\n      <td>4.07</td>\n      <td>1989-09-01</td>\n      <td>Green Left</td>\n      <td>24.85</td>\n    </tr>\n    <tr>\n      <th>1993-01-01</th>\n      <td>10</td>\n      <td>Netherlands</td>\n      <td>6.1</td>\n      <td>4.07</td>\n      <td>1989-09-01</td>\n      <td>Green Left</td>\n      <td>24.85</td>\n    </tr>\n    <tr>\n      <th>...</th>\n      <td>...</td>\n      <td>...</td>\n      <td>...</td>\n      <td>...</td>\n      <td>...</td>\n      <td>...</td>\n      <td>...</td>\n    </tr>\n    <tr>\n      <th>2016-01-01</th>\n      <td>95</td>\n      <td>Estonia</td>\n      <td>0.0</td>\n      <td>7.12</td>\n      <td>1992-09-01</td>\n      <td>Electoral Union ‘Independent Royalists'</td>\n      <td>0.00</td>\n    </tr>\n    <tr>\n      <th>2017-01-01</th>\n      <td>95</td>\n      <td>Estonia</td>\n      <td>0.0</td>\n      <td>7.12</td>\n      <td>1992-09-01</td>\n      <td>Electoral Union ‘Independent Royalists'</td>\n      <td>0.00</td>\n    </tr>\n    <tr>\n      <th>2018-01-01</th>\n      <td>95</td>\n      <td>Estonia</td>\n      <td>0.0</td>\n      <td>7.12</td>\n      <td>1992-09-01</td>\n      <td>Electoral Union ‘Independent Royalists'</td>\n      <td>0.00</td>\n    </tr>\n    <tr>\n      <th>2019-01-01</th>\n      <td>95</td>\n      <td>Estonia</td>\n      <td>0.0</td>\n      <td>7.12</td>\n      <td>1992-09-01</td>\n      <td>Electoral Union ‘Independent Royalists'</td>\n      <td>0.00</td>\n    </tr>\n    <tr>\n      <th>2020-01-01</th>\n      <td>95</td>\n      <td>Estonia</td>\n      <td>0.0</td>\n      <td>7.12</td>\n      <td>1992-09-01</td>\n      <td>Electoral Union ‘Independent Royalists'</td>\n      <td>0.00</td>\n    </tr>\n  </tbody>\n</table>\n<p>9058 rows × 7 columns</p>\n</div>"
     },
     "metadata": {},
     "execution_count": 1
    }
   ],
   "source": [
    "import pandas as pd\n",
    "import glob\n",
    "\n",
    "pd.set_option(\"display.precision\", 2) #always just show 2 decimal points\n",
    "\n",
    "\n",
    "#Read in all country data\n",
    "path = r'/Users/rvpazos/Documents/mvtec/ManifestoProject/workshop2-manifesto-rebeccaFolder/country-data' # use your path\n",
    "all_files = glob.glob(path + \"/*.csv\")\n",
    "\n",
    "all_files\n",
    "li = []\n",
    "for filename in all_files:\n",
    "    df = pd.read_csv(filename,header=0)\n",
    "    li.append(df)\n",
    "\n",
    "allData = pd.concat(li, axis=0)\n",
    "\n",
    "allData\n",
    "# allData.reset_index()\n",
    "allData = allData.set_index(pd.DatetimeIndex(allData['index'])).drop(['index'], axis=1)\n",
    "\n",
    "allData\n",
    "\n"
   ]
  },
  {
   "cell_type": "code",
   "execution_count": 2,
   "metadata": {},
   "outputs": [],
   "source": [
    "#Parfam renamed\n",
    "import numpy as np \n",
    "\n",
    "#Change parfam codes to abbreviations for better identification\n",
    "conditions = [\n",
    "    (allData['parfam'] == 10),\n",
    "    (allData['parfam'] == 20),\n",
    "    (allData['parfam'] == 30),\n",
    "    (allData['parfam'] == 40),\n",
    "    (allData['parfam'] == 50),\n",
    "    (allData['parfam'] == 60),\n",
    "    (allData['parfam'] == 70),\n",
    "    (allData['parfam'] == 80),\n",
    "    (allData['parfam'] == 90),\n",
    "    (allData['parfam'] == 95),\n",
    "    (allData['parfam'] == 98),\n",
    "]\n",
    "\n",
    "values = ['ECO','LEF','SOC','LIB','CHR', 'CON', 'NAT', 'AGR', 'ETH', 'SIP', 'DIV']\n",
    "\n",
    "allData['parfamName'] = np.select(conditions,values)\n",
    "\n",
    "\n",
    "allData.head()\n",
    "allData.to_csv('allCountries.csv')\n",
    "\n"
   ]
  },
  {
   "cell_type": "code",
   "execution_count": 95,
   "metadata": {},
   "outputs": [
    {
     "output_type": "execute_result",
     "data": {
      "text/plain": [
       "index       parfam\n",
       "1944-01-01  20         1\n",
       "            30         1\n",
       "            40         1\n",
       "            60         1\n",
       "            80         1\n",
       "                      ..\n",
       "2020-01-01  70        24\n",
       "            80        12\n",
       "            90        13\n",
       "            95        16\n",
       "            98         4\n",
       "Name: parfam, Length: 750, dtype: int64"
      ]
     },
     "metadata": {},
     "execution_count": 95
    }
   ],
   "source": [
    "n_by_fam = allData.groupby(['index','parfam'])['parfam'].count()\n",
    "n_by_fam\n"
   ]
  },
  {
   "cell_type": "code",
   "execution_count": 3,
   "metadata": {},
   "outputs": [],
   "source": [
    "import numpy as np\n",
    "\n",
    "# allData['parfam'] = df['parfam'].astype('category')\n",
    "\n",
    "pt = pd.pivot_table(allData, index=['index','parfamName'], values=['parfam','per503','pervote','environWeighted'], aggfunc={'parfam' : 'count', 'per503' : 'sum', 'pervote' : 'sum', 'environWeighted' : 'sum'}, dropna=True)\n",
    "pt['avgVote'] = (pt['pervote'])/(pt['parfam'])\n",
    "\n",
    "pt.to_csv('groupedData.csv')"
   ]
  },
  {
   "cell_type": "code",
   "execution_count": 8,
   "metadata": {},
   "outputs": [],
   "source": [
    "spainDF = allData.loc[(allData['countryname']=='Spain')] \n",
    "\n",
    "decadesFilter = ['1990-01-01','1995-01-01','2000-01-01','2005-01-01','2010-01-01','2015-01-01','2020-01-01']\n",
    "filteredSpain = spainDF[spainDF.index.isin(decadesFilter)]\n",
    "filteredSpain\n",
    "\n",
    "\n",
    "ptSpain = pd.pivot_table(filteredSpain, index=['index','parfamName'], values=['parfam','per503','pervote','environWeighted'], aggfunc={'parfam' : 'count', 'per503' : 'sum', 'pervote' : 'sum', 'environWeighted' : 'sum'}, dropna=True)\n",
    "ptSpain['avgVote'] = (ptSpain['pervote'])/(ptSpain['parfam'])\n",
    "\n",
    "ptSpain.to_csv('spain-grouped.csv')"
   ]
  },
  {
   "cell_type": "code",
   "execution_count": null,
   "metadata": {},
   "outputs": [],
   "source": []
  }
 ]
}