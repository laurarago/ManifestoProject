{
 "metadata": {
  "language_info": {
   "codemirror_mode": {
    "name": "ipython",
    "version": 3
   },
   "file_extension": ".py",
   "mimetype": "text/x-python",
   "name": "python",
   "nbconvert_exporter": "python",
   "pygments_lexer": "ipython3",
   "version": "3.8.3"
  },
  "orig_nbformat": 2,
  "kernelspec": {
   "name": "python383jvsc74a57bd0dca0ade3e726a953b501b15e8e990130d2b7799f14cfd9f4271676035ebe5511",
   "display_name": "Python 3.8.3 64-bit ('base': conda)"
  }
 },
 "nbformat": 4,
 "nbformat_minor": 2,
 "cells": [
  {
   "cell_type": "code",
   "execution_count": 1,
   "metadata": {},
   "outputs": [
    {
     "output_type": "execute_result",
     "data": {
      "text/plain": [
       "     yearObject  parfam  countryname  environ  culture  equality  pervote  \\\n",
       "0    1989-01-01      10  Netherlands      8.7      3.4       6.1     4.07   \n",
       "1    1990-01-01      10  Netherlands      8.7      3.4       6.1     4.07   \n",
       "2    1991-01-01      10  Netherlands      8.7      3.4       6.1     4.07   \n",
       "3    1992-01-01      10  Netherlands      8.7      3.4       6.1     4.07   \n",
       "4    1993-01-01      10  Netherlands      8.7      3.4       6.1     4.07   \n",
       "..          ...     ...          ...      ...      ...       ...      ...   \n",
       "228  2016-01-01      95      Estonia      0.0      0.0       0.0     7.12   \n",
       "229  2017-01-01      95      Estonia      0.0      0.0       0.0     7.12   \n",
       "230  2018-01-01      95      Estonia      0.0      0.0       0.0     7.12   \n",
       "231  2019-01-01      95      Estonia      0.0      0.0       0.0     7.12   \n",
       "232  2020-01-01      95      Estonia      0.0      0.0       0.0     7.12   \n",
       "\n",
       "     rile electionDate                                partyname  \n",
       "0   -15.0   1989-09-01                               Green Left  \n",
       "1   -15.0   1989-09-01                               Green Left  \n",
       "2   -15.0   1989-09-01                               Green Left  \n",
       "3   -15.0   1989-09-01                               Green Left  \n",
       "4   -15.0   1989-09-01                               Green Left  \n",
       "..    ...          ...                                      ...  \n",
       "228  62.5   1992-09-01  Electoral Union ‘Independent Royalists'  \n",
       "229  62.5   1992-09-01  Electoral Union ‘Independent Royalists'  \n",
       "230  62.5   1992-09-01  Electoral Union ‘Independent Royalists'  \n",
       "231  62.5   1992-09-01  Electoral Union ‘Independent Royalists'  \n",
       "232  62.5   1992-09-01  Electoral Union ‘Independent Royalists'  \n",
       "\n",
       "[9018 rows x 10 columns]"
      ],
      "text/html": "<div>\n<style scoped>\n    .dataframe tbody tr th:only-of-type {\n        vertical-align: middle;\n    }\n\n    .dataframe tbody tr th {\n        vertical-align: top;\n    }\n\n    .dataframe thead th {\n        text-align: right;\n    }\n</style>\n<table border=\"1\" class=\"dataframe\">\n  <thead>\n    <tr style=\"text-align: right;\">\n      <th></th>\n      <th>yearObject</th>\n      <th>parfam</th>\n      <th>countryname</th>\n      <th>environ</th>\n      <th>culture</th>\n      <th>equality</th>\n      <th>pervote</th>\n      <th>rile</th>\n      <th>electionDate</th>\n      <th>partyname</th>\n    </tr>\n  </thead>\n  <tbody>\n    <tr>\n      <th>0</th>\n      <td>1989-01-01</td>\n      <td>10</td>\n      <td>Netherlands</td>\n      <td>8.7</td>\n      <td>3.4</td>\n      <td>6.1</td>\n      <td>4.07</td>\n      <td>-15.0</td>\n      <td>1989-09-01</td>\n      <td>Green Left</td>\n    </tr>\n    <tr>\n      <th>1</th>\n      <td>1990-01-01</td>\n      <td>10</td>\n      <td>Netherlands</td>\n      <td>8.7</td>\n      <td>3.4</td>\n      <td>6.1</td>\n      <td>4.07</td>\n      <td>-15.0</td>\n      <td>1989-09-01</td>\n      <td>Green Left</td>\n    </tr>\n    <tr>\n      <th>2</th>\n      <td>1991-01-01</td>\n      <td>10</td>\n      <td>Netherlands</td>\n      <td>8.7</td>\n      <td>3.4</td>\n      <td>6.1</td>\n      <td>4.07</td>\n      <td>-15.0</td>\n      <td>1989-09-01</td>\n      <td>Green Left</td>\n    </tr>\n    <tr>\n      <th>3</th>\n      <td>1992-01-01</td>\n      <td>10</td>\n      <td>Netherlands</td>\n      <td>8.7</td>\n      <td>3.4</td>\n      <td>6.1</td>\n      <td>4.07</td>\n      <td>-15.0</td>\n      <td>1989-09-01</td>\n      <td>Green Left</td>\n    </tr>\n    <tr>\n      <th>4</th>\n      <td>1993-01-01</td>\n      <td>10</td>\n      <td>Netherlands</td>\n      <td>8.7</td>\n      <td>3.4</td>\n      <td>6.1</td>\n      <td>4.07</td>\n      <td>-15.0</td>\n      <td>1989-09-01</td>\n      <td>Green Left</td>\n    </tr>\n    <tr>\n      <th>...</th>\n      <td>...</td>\n      <td>...</td>\n      <td>...</td>\n      <td>...</td>\n      <td>...</td>\n      <td>...</td>\n      <td>...</td>\n      <td>...</td>\n      <td>...</td>\n      <td>...</td>\n    </tr>\n    <tr>\n      <th>228</th>\n      <td>2016-01-01</td>\n      <td>95</td>\n      <td>Estonia</td>\n      <td>0.0</td>\n      <td>0.0</td>\n      <td>0.0</td>\n      <td>7.12</td>\n      <td>62.5</td>\n      <td>1992-09-01</td>\n      <td>Electoral Union ‘Independent Royalists'</td>\n    </tr>\n    <tr>\n      <th>229</th>\n      <td>2017-01-01</td>\n      <td>95</td>\n      <td>Estonia</td>\n      <td>0.0</td>\n      <td>0.0</td>\n      <td>0.0</td>\n      <td>7.12</td>\n      <td>62.5</td>\n      <td>1992-09-01</td>\n      <td>Electoral Union ‘Independent Royalists'</td>\n    </tr>\n    <tr>\n      <th>230</th>\n      <td>2018-01-01</td>\n      <td>95</td>\n      <td>Estonia</td>\n      <td>0.0</td>\n      <td>0.0</td>\n      <td>0.0</td>\n      <td>7.12</td>\n      <td>62.5</td>\n      <td>1992-09-01</td>\n      <td>Electoral Union ‘Independent Royalists'</td>\n    </tr>\n    <tr>\n      <th>231</th>\n      <td>2019-01-01</td>\n      <td>95</td>\n      <td>Estonia</td>\n      <td>0.0</td>\n      <td>0.0</td>\n      <td>0.0</td>\n      <td>7.12</td>\n      <td>62.5</td>\n      <td>1992-09-01</td>\n      <td>Electoral Union ‘Independent Royalists'</td>\n    </tr>\n    <tr>\n      <th>232</th>\n      <td>2020-01-01</td>\n      <td>95</td>\n      <td>Estonia</td>\n      <td>0.0</td>\n      <td>0.0</td>\n      <td>0.0</td>\n      <td>7.12</td>\n      <td>62.5</td>\n      <td>1992-09-01</td>\n      <td>Electoral Union ‘Independent Royalists'</td>\n    </tr>\n  </tbody>\n</table>\n<p>9018 rows × 10 columns</p>\n</div>"
     },
     "metadata": {},
     "execution_count": 1
    }
   ],
   "source": [
    "import pandas as pd\n",
    "import glob\n",
    "\n",
    "pd.set_option(\"display.precision\", 2) #always just show 2 decimal points\n",
    "\n",
    "\n",
    "#Read in all country data\n",
    "path = r'/Users/rvpazos/Documents/mvtec/ManifestoProject/workshop2-manifesto-rebeccaFolder/country-data' # use your path\n",
    "all_files = glob.glob(path + \"/*.csv\")\n",
    "\n",
    "all_files\n",
    "li = []\n",
    "for filename in all_files:\n",
    "    df = pd.read_csv(filename,header=0)\n",
    "    li.append(df)\n",
    "\n",
    "allData = pd.concat(li, axis=0)\n",
    "\n",
    "# allData.reset_index()\n",
    "# allData = allData.set_index(pd.DatetimeIndex(allData['index'])).drop(['index'], axis=1)\n",
    "\n",
    "allData = allData.rename(columns={'index':'yearObject'})\n",
    "\n",
    "allData\n",
    "\n"
   ]
  },
  {
   "cell_type": "code",
   "execution_count": 2,
   "metadata": {},
   "outputs": [
    {
     "output_type": "execute_result",
     "data": {
      "text/plain": [
       "   yearObject  parfam  countryname  environ  culture  equality  pervote  rile  \\\n",
       "0  1989-01-01      10  Netherlands      8.7      3.4       6.1     4.07 -15.0   \n",
       "1  1990-01-01      10  Netherlands      8.7      3.4       6.1     4.07 -15.0   \n",
       "2  1991-01-01      10  Netherlands      8.7      3.4       6.1     4.07 -15.0   \n",
       "3  1992-01-01      10  Netherlands      8.7      3.4       6.1     4.07 -15.0   \n",
       "4  1993-01-01      10  Netherlands      8.7      3.4       6.1     4.07 -15.0   \n",
       "\n",
       "  electionDate   partyname parfamName  \n",
       "0   1989-09-01  Green Left        ECO  \n",
       "1   1989-09-01  Green Left        ECO  \n",
       "2   1989-09-01  Green Left        ECO  \n",
       "3   1989-09-01  Green Left        ECO  \n",
       "4   1989-09-01  Green Left        ECO  "
      ],
      "text/html": "<div>\n<style scoped>\n    .dataframe tbody tr th:only-of-type {\n        vertical-align: middle;\n    }\n\n    .dataframe tbody tr th {\n        vertical-align: top;\n    }\n\n    .dataframe thead th {\n        text-align: right;\n    }\n</style>\n<table border=\"1\" class=\"dataframe\">\n  <thead>\n    <tr style=\"text-align: right;\">\n      <th></th>\n      <th>yearObject</th>\n      <th>parfam</th>\n      <th>countryname</th>\n      <th>environ</th>\n      <th>culture</th>\n      <th>equality</th>\n      <th>pervote</th>\n      <th>rile</th>\n      <th>electionDate</th>\n      <th>partyname</th>\n      <th>parfamName</th>\n    </tr>\n  </thead>\n  <tbody>\n    <tr>\n      <th>0</th>\n      <td>1989-01-01</td>\n      <td>10</td>\n      <td>Netherlands</td>\n      <td>8.7</td>\n      <td>3.4</td>\n      <td>6.1</td>\n      <td>4.07</td>\n      <td>-15.0</td>\n      <td>1989-09-01</td>\n      <td>Green Left</td>\n      <td>ECO</td>\n    </tr>\n    <tr>\n      <th>1</th>\n      <td>1990-01-01</td>\n      <td>10</td>\n      <td>Netherlands</td>\n      <td>8.7</td>\n      <td>3.4</td>\n      <td>6.1</td>\n      <td>4.07</td>\n      <td>-15.0</td>\n      <td>1989-09-01</td>\n      <td>Green Left</td>\n      <td>ECO</td>\n    </tr>\n    <tr>\n      <th>2</th>\n      <td>1991-01-01</td>\n      <td>10</td>\n      <td>Netherlands</td>\n      <td>8.7</td>\n      <td>3.4</td>\n      <td>6.1</td>\n      <td>4.07</td>\n      <td>-15.0</td>\n      <td>1989-09-01</td>\n      <td>Green Left</td>\n      <td>ECO</td>\n    </tr>\n    <tr>\n      <th>3</th>\n      <td>1992-01-01</td>\n      <td>10</td>\n      <td>Netherlands</td>\n      <td>8.7</td>\n      <td>3.4</td>\n      <td>6.1</td>\n      <td>4.07</td>\n      <td>-15.0</td>\n      <td>1989-09-01</td>\n      <td>Green Left</td>\n      <td>ECO</td>\n    </tr>\n    <tr>\n      <th>4</th>\n      <td>1993-01-01</td>\n      <td>10</td>\n      <td>Netherlands</td>\n      <td>8.7</td>\n      <td>3.4</td>\n      <td>6.1</td>\n      <td>4.07</td>\n      <td>-15.0</td>\n      <td>1989-09-01</td>\n      <td>Green Left</td>\n      <td>ECO</td>\n    </tr>\n  </tbody>\n</table>\n</div>"
     },
     "metadata": {},
     "execution_count": 2
    }
   ],
   "source": [
    "#Parfam renamed\n",
    "import numpy as np \n",
    "\n",
    "#Change parfam codes to abbreviations for better identification\n",
    "conditions = [\n",
    "    (allData['parfam'] == 10),\n",
    "    (allData['parfam'] == 20),\n",
    "    (allData['parfam'] == 30),\n",
    "    (allData['parfam'] == 40),\n",
    "    (allData['parfam'] == 50),\n",
    "    (allData['parfam'] == 60),\n",
    "    (allData['parfam'] == 70),\n",
    "    (allData['parfam'] == 80),\n",
    "    (allData['parfam'] == 90),\n",
    "    (allData['parfam'] == 95),\n",
    "    (allData['parfam'] == 98),\n",
    "]\n",
    "\n",
    "values = ['ECO','LEF','SOC','LIB','CHR', 'CON', 'NAT', 'AGR', 'ETH', 'SIP', 'DIV']\n",
    "\n",
    "allData['parfamName'] = np.select(conditions,values)\n",
    "\n",
    "\n",
    "allData.head()\n",
    "# allData.to_csv('allCountries.csv')\n",
    "\n"
   ]
  },
  {
   "cell_type": "code",
   "execution_count": 51,
   "metadata": {},
   "outputs": [
    {
     "output_type": "error",
     "ename": "KeyError",
     "evalue": "'yearObject'",
     "traceback": [
      "\u001b[0;31m---------------------------------------------------------------------------\u001b[0m",
      "\u001b[0;31mKeyError\u001b[0m                                  Traceback (most recent call last)",
      "\u001b[0;32m/opt/anaconda3/lib/python3.8/site-packages/pandas/core/indexes/base.py\u001b[0m in \u001b[0;36mget_loc\u001b[0;34m(self, key, method, tolerance)\u001b[0m\n\u001b[1;32m   2645\u001b[0m             \u001b[0;32mtry\u001b[0m\u001b[0;34m:\u001b[0m\u001b[0;34m\u001b[0m\u001b[0;34m\u001b[0m\u001b[0m\n\u001b[0;32m-> 2646\u001b[0;31m                 \u001b[0;32mreturn\u001b[0m \u001b[0mself\u001b[0m\u001b[0;34m.\u001b[0m\u001b[0m_engine\u001b[0m\u001b[0;34m.\u001b[0m\u001b[0mget_loc\u001b[0m\u001b[0;34m(\u001b[0m\u001b[0mkey\u001b[0m\u001b[0;34m)\u001b[0m\u001b[0;34m\u001b[0m\u001b[0;34m\u001b[0m\u001b[0m\n\u001b[0m\u001b[1;32m   2647\u001b[0m             \u001b[0;32mexcept\u001b[0m \u001b[0mKeyError\u001b[0m\u001b[0;34m:\u001b[0m\u001b[0;34m\u001b[0m\u001b[0;34m\u001b[0m\u001b[0m\n",
      "\u001b[0;32mpandas/_libs/index.pyx\u001b[0m in \u001b[0;36mpandas._libs.index.IndexEngine.get_loc\u001b[0;34m()\u001b[0m\n",
      "\u001b[0;32mpandas/_libs/index.pyx\u001b[0m in \u001b[0;36mpandas._libs.index.IndexEngine.get_loc\u001b[0;34m()\u001b[0m\n",
      "\u001b[0;32mpandas/_libs/hashtable_class_helper.pxi\u001b[0m in \u001b[0;36mpandas._libs.hashtable.PyObjectHashTable.get_item\u001b[0;34m()\u001b[0m\n",
      "\u001b[0;32mpandas/_libs/hashtable_class_helper.pxi\u001b[0m in \u001b[0;36mpandas._libs.hashtable.PyObjectHashTable.get_item\u001b[0;34m()\u001b[0m\n",
      "\u001b[0;31mKeyError\u001b[0m: 'yearObject'",
      "\nDuring handling of the above exception, another exception occurred:\n",
      "\u001b[0;31mKeyError\u001b[0m                                  Traceback (most recent call last)",
      "\u001b[0;32m<ipython-input-51-4d017aa5cba7>\u001b[0m in \u001b[0;36m<module>\u001b[0;34m\u001b[0m\n\u001b[1;32m      2\u001b[0m \u001b[0;34m\u001b[0m\u001b[0m\n\u001b[1;32m      3\u001b[0m \u001b[0mdf2\u001b[0m \u001b[0;34m=\u001b[0m \u001b[0mallData\u001b[0m\u001b[0;34m.\u001b[0m\u001b[0mset_index\u001b[0m\u001b[0;34m(\u001b[0m\u001b[0;34m'parfamName'\u001b[0m\u001b[0;34m)\u001b[0m\u001b[0;34m\u001b[0m\u001b[0;34m\u001b[0m\u001b[0m\n\u001b[0;32m----> 4\u001b[0;31m \u001b[0mdf2\u001b[0m\u001b[0;34m[\u001b[0m\u001b[0;34m'yearObject'\u001b[0m\u001b[0;34m]\u001b[0m \u001b[0;34m=\u001b[0m \u001b[0mpd\u001b[0m\u001b[0;34m.\u001b[0m\u001b[0mto_datetime\u001b[0m\u001b[0;34m(\u001b[0m\u001b[0mdf\u001b[0m\u001b[0;34m[\u001b[0m\u001b[0;34m'yearObject'\u001b[0m\u001b[0;34m]\u001b[0m\u001b[0;34m)\u001b[0m\u001b[0;34m\u001b[0m\u001b[0;34m\u001b[0m\u001b[0m\n\u001b[0m",
      "\u001b[0;32m/opt/anaconda3/lib/python3.8/site-packages/pandas/core/frame.py\u001b[0m in \u001b[0;36m__getitem__\u001b[0;34m(self, key)\u001b[0m\n\u001b[1;32m   2798\u001b[0m             \u001b[0;32mif\u001b[0m \u001b[0mself\u001b[0m\u001b[0;34m.\u001b[0m\u001b[0mcolumns\u001b[0m\u001b[0;34m.\u001b[0m\u001b[0mnlevels\u001b[0m \u001b[0;34m>\u001b[0m \u001b[0;36m1\u001b[0m\u001b[0;34m:\u001b[0m\u001b[0;34m\u001b[0m\u001b[0;34m\u001b[0m\u001b[0m\n\u001b[1;32m   2799\u001b[0m                 \u001b[0;32mreturn\u001b[0m \u001b[0mself\u001b[0m\u001b[0;34m.\u001b[0m\u001b[0m_getitem_multilevel\u001b[0m\u001b[0;34m(\u001b[0m\u001b[0mkey\u001b[0m\u001b[0;34m)\u001b[0m\u001b[0;34m\u001b[0m\u001b[0;34m\u001b[0m\u001b[0m\n\u001b[0;32m-> 2800\u001b[0;31m             \u001b[0mindexer\u001b[0m \u001b[0;34m=\u001b[0m \u001b[0mself\u001b[0m\u001b[0;34m.\u001b[0m\u001b[0mcolumns\u001b[0m\u001b[0;34m.\u001b[0m\u001b[0mget_loc\u001b[0m\u001b[0;34m(\u001b[0m\u001b[0mkey\u001b[0m\u001b[0;34m)\u001b[0m\u001b[0;34m\u001b[0m\u001b[0;34m\u001b[0m\u001b[0m\n\u001b[0m\u001b[1;32m   2801\u001b[0m             \u001b[0;32mif\u001b[0m \u001b[0mis_integer\u001b[0m\u001b[0;34m(\u001b[0m\u001b[0mindexer\u001b[0m\u001b[0;34m)\u001b[0m\u001b[0;34m:\u001b[0m\u001b[0;34m\u001b[0m\u001b[0;34m\u001b[0m\u001b[0m\n\u001b[1;32m   2802\u001b[0m                 \u001b[0mindexer\u001b[0m \u001b[0;34m=\u001b[0m \u001b[0;34m[\u001b[0m\u001b[0mindexer\u001b[0m\u001b[0;34m]\u001b[0m\u001b[0;34m\u001b[0m\u001b[0;34m\u001b[0m\u001b[0m\n",
      "\u001b[0;32m/opt/anaconda3/lib/python3.8/site-packages/pandas/core/indexes/base.py\u001b[0m in \u001b[0;36mget_loc\u001b[0;34m(self, key, method, tolerance)\u001b[0m\n\u001b[1;32m   2646\u001b[0m                 \u001b[0;32mreturn\u001b[0m \u001b[0mself\u001b[0m\u001b[0;34m.\u001b[0m\u001b[0m_engine\u001b[0m\u001b[0;34m.\u001b[0m\u001b[0mget_loc\u001b[0m\u001b[0;34m(\u001b[0m\u001b[0mkey\u001b[0m\u001b[0;34m)\u001b[0m\u001b[0;34m\u001b[0m\u001b[0;34m\u001b[0m\u001b[0m\n\u001b[1;32m   2647\u001b[0m             \u001b[0;32mexcept\u001b[0m \u001b[0mKeyError\u001b[0m\u001b[0;34m:\u001b[0m\u001b[0;34m\u001b[0m\u001b[0;34m\u001b[0m\u001b[0m\n\u001b[0;32m-> 2648\u001b[0;31m                 \u001b[0;32mreturn\u001b[0m \u001b[0mself\u001b[0m\u001b[0;34m.\u001b[0m\u001b[0m_engine\u001b[0m\u001b[0;34m.\u001b[0m\u001b[0mget_loc\u001b[0m\u001b[0;34m(\u001b[0m\u001b[0mself\u001b[0m\u001b[0;34m.\u001b[0m\u001b[0m_maybe_cast_indexer\u001b[0m\u001b[0;34m(\u001b[0m\u001b[0mkey\u001b[0m\u001b[0;34m)\u001b[0m\u001b[0;34m)\u001b[0m\u001b[0;34m\u001b[0m\u001b[0;34m\u001b[0m\u001b[0m\n\u001b[0m\u001b[1;32m   2649\u001b[0m         \u001b[0mindexer\u001b[0m \u001b[0;34m=\u001b[0m \u001b[0mself\u001b[0m\u001b[0;34m.\u001b[0m\u001b[0mget_indexer\u001b[0m\u001b[0;34m(\u001b[0m\u001b[0;34m[\u001b[0m\u001b[0mkey\u001b[0m\u001b[0;34m]\u001b[0m\u001b[0;34m,\u001b[0m \u001b[0mmethod\u001b[0m\u001b[0;34m=\u001b[0m\u001b[0mmethod\u001b[0m\u001b[0;34m,\u001b[0m \u001b[0mtolerance\u001b[0m\u001b[0;34m=\u001b[0m\u001b[0mtolerance\u001b[0m\u001b[0;34m)\u001b[0m\u001b[0;34m\u001b[0m\u001b[0;34m\u001b[0m\u001b[0m\n\u001b[1;32m   2650\u001b[0m         \u001b[0;32mif\u001b[0m \u001b[0mindexer\u001b[0m\u001b[0;34m.\u001b[0m\u001b[0mndim\u001b[0m \u001b[0;34m>\u001b[0m \u001b[0;36m1\u001b[0m \u001b[0;32mor\u001b[0m \u001b[0mindexer\u001b[0m\u001b[0;34m.\u001b[0m\u001b[0msize\u001b[0m \u001b[0;34m>\u001b[0m \u001b[0;36m1\u001b[0m\u001b[0;34m:\u001b[0m\u001b[0;34m\u001b[0m\u001b[0;34m\u001b[0m\u001b[0m\n",
      "\u001b[0;32mpandas/_libs/index.pyx\u001b[0m in \u001b[0;36mpandas._libs.index.IndexEngine.get_loc\u001b[0;34m()\u001b[0m\n",
      "\u001b[0;32mpandas/_libs/index.pyx\u001b[0m in \u001b[0;36mpandas._libs.index.IndexEngine.get_loc\u001b[0;34m()\u001b[0m\n",
      "\u001b[0;32mpandas/_libs/hashtable_class_helper.pxi\u001b[0m in \u001b[0;36mpandas._libs.hashtable.PyObjectHashTable.get_item\u001b[0;34m()\u001b[0m\n",
      "\u001b[0;32mpandas/_libs/hashtable_class_helper.pxi\u001b[0m in \u001b[0;36mpandas._libs.hashtable.PyObjectHashTable.get_item\u001b[0;34m()\u001b[0m\n",
      "\u001b[0;31mKeyError\u001b[0m: 'yearObject'"
     ]
    }
   ],
   "source": [
    "#reset all data for JSON output\n",
    "\n",
    "df2 = allData.set_index('parfamName')\n",
    "df2\n",
    "df2['yearObject'] = pd.to_datetime(df['yearObject'])"
   ]
  },
  {
   "cell_type": "code",
   "execution_count": 31,
   "metadata": {},
   "outputs": [
    {
     "output_type": "execute_result",
     "data": {
      "text/plain": [
       "            culture   environ  equality       index  parfamCount   pervote  \\\n",
       "parfamName                                                                   \n",
       "AGR          856.38   2399.46   1906.87  1944-01-01          493   4126.22   \n",
       "CHR         2803.19   3962.39   4114.16  1945-01-01         1174  22878.17   \n",
       "CON         2127.70   2156.50   2777.19  1944-01-01          922  18229.83   \n",
       "DIV          171.72    194.93     72.43  1997-01-01           77    954.89   \n",
       "ECO         1712.81  12363.51   3159.56  1981-01-01          593   2523.15   \n",
       "\n",
       "             rile  \n",
       "parfamName         \n",
       "AGR          5.41  \n",
       "CHR          4.17  \n",
       "CON          7.49  \n",
       "DIV         -4.67  \n",
       "ECO        -12.10  "
      ],
      "text/html": "<div>\n<style scoped>\n    .dataframe tbody tr th:only-of-type {\n        vertical-align: middle;\n    }\n\n    .dataframe tbody tr th {\n        vertical-align: top;\n    }\n\n    .dataframe thead th {\n        text-align: right;\n    }\n</style>\n<table border=\"1\" class=\"dataframe\">\n  <thead>\n    <tr style=\"text-align: right;\">\n      <th></th>\n      <th>culture</th>\n      <th>environ</th>\n      <th>equality</th>\n      <th>index</th>\n      <th>parfamCount</th>\n      <th>pervote</th>\n      <th>rile</th>\n    </tr>\n    <tr>\n      <th>parfamName</th>\n      <th></th>\n      <th></th>\n      <th></th>\n      <th></th>\n      <th></th>\n      <th></th>\n      <th></th>\n    </tr>\n  </thead>\n  <tbody>\n    <tr>\n      <th>AGR</th>\n      <td>856.38</td>\n      <td>2399.46</td>\n      <td>1906.87</td>\n      <td>1944-01-01</td>\n      <td>493</td>\n      <td>4126.22</td>\n      <td>5.41</td>\n    </tr>\n    <tr>\n      <th>CHR</th>\n      <td>2803.19</td>\n      <td>3962.39</td>\n      <td>4114.16</td>\n      <td>1945-01-01</td>\n      <td>1174</td>\n      <td>22878.17</td>\n      <td>4.17</td>\n    </tr>\n    <tr>\n      <th>CON</th>\n      <td>2127.70</td>\n      <td>2156.50</td>\n      <td>2777.19</td>\n      <td>1944-01-01</td>\n      <td>922</td>\n      <td>18229.83</td>\n      <td>7.49</td>\n    </tr>\n    <tr>\n      <th>DIV</th>\n      <td>171.72</td>\n      <td>194.93</td>\n      <td>72.43</td>\n      <td>1997-01-01</td>\n      <td>77</td>\n      <td>954.89</td>\n      <td>-4.67</td>\n    </tr>\n    <tr>\n      <th>ECO</th>\n      <td>1712.81</td>\n      <td>12363.51</td>\n      <td>3159.56</td>\n      <td>1981-01-01</td>\n      <td>593</td>\n      <td>2523.15</td>\n      <td>-12.10</td>\n    </tr>\n  </tbody>\n</table>\n</div>"
     },
     "metadata": {},
     "execution_count": 31
    }
   ],
   "source": [
    "import numpy as np\n",
    "\n",
    "# allData['parfam'] = df['parfam'].astype('category')\n",
    "\n",
    "pt = pd.pivot_table(allData, index='parfamName', values=['index','parfam','environ','culture','equality','pervote','rile'], aggfunc={'index': 'min', 'parfam' : 'count', 'environ' : 'sum','culture' : 'sum','equality' : 'sum', 'pervote' : 'sum', 'rile' : 'mean'}, dropna=True)\n",
    "pt = pt.rename(columns={'parfam':'parfamCount'})\n",
    "# pt['avgVote'] = (pt['pervote'])/(pt['parfamCount'])\n",
    "\n",
    "pt.head()"
   ]
  },
  {
   "cell_type": "code",
   "execution_count": 17,
   "metadata": {},
   "outputs": [
    {
     "output_type": "error",
     "ename": "AttributeError",
     "evalue": "'MultiIndex' object has no attribute 'year'",
     "traceback": [
      "\u001b[0;31m---------------------------------------------------------------------------\u001b[0m",
      "\u001b[0;31mAttributeError\u001b[0m                            Traceback (most recent call last)",
      "\u001b[0;32m<ipython-input-17-b01fc291d948>\u001b[0m in \u001b[0;36m<module>\u001b[0;34m\u001b[0m\n\u001b[1;32m      4\u001b[0m \u001b[0;34m\u001b[0m\u001b[0m\n\u001b[1;32m      5\u001b[0m \u001b[0;34m\u001b[0m\u001b[0m\n\u001b[0;32m----> 6\u001b[0;31m \u001b[0mpt\u001b[0m\u001b[0;34m[\u001b[0m\u001b[0;34m'year'\u001b[0m\u001b[0;34m]\u001b[0m \u001b[0;34m=\u001b[0m \u001b[0mpt\u001b[0m\u001b[0;34m.\u001b[0m\u001b[0mindex\u001b[0m\u001b[0;34m.\u001b[0m\u001b[0myear\u001b[0m\u001b[0;34m(\u001b[0m\u001b[0;34m)\u001b[0m\u001b[0;34m\u001b[0m\u001b[0;34m\u001b[0m\u001b[0m\n\u001b[0m\u001b[1;32m      7\u001b[0m \u001b[0;34m\u001b[0m\u001b[0m\n",
      "\u001b[0;31mAttributeError\u001b[0m: 'MultiIndex' object has no attribute 'year'"
     ]
    }
   ],
   "source": [
    "import json\n",
    "\n",
    "result = pt.to_json('test.json', orient='index')\n",
    "\n",
    "\n",
    "pt['year'] = pt.index.year()\n",
    "\n"
   ]
  },
  {
   "cell_type": "code",
   "execution_count": 8,
   "metadata": {},
   "outputs": [],
   "source": [
    "spainDF = allData.loc[(allData['countryname']=='Spain')] \n",
    "\n",
    "decadesFilter = ['1990-01-01','1995-01-01','2000-01-01','2005-01-01','2010-01-01','2015-01-01','2020-01-01']\n",
    "filteredSpain = spainDF[spainDF.index.isin(decadesFilter)]\n",
    "filteredSpain\n",
    "\n",
    "\n",
    "ptSpain = pd.pivot_table(filteredSpain, index=['index','parfamName'], values=['parfam','per503','pervote','environWeighted'], aggfunc={'parfam' : 'count', 'per503' : 'sum', 'pervote' : 'sum', 'environWeighted' : 'sum'}, dropna=True)\n",
    "ptSpain['avgVote'] = (ptSpain['pervote'])/(ptSpain['parfam'])\n",
    "\n",
    "ptSpain.to_csv('spain-grouped.csv')"
   ]
  },
  {
   "cell_type": "code",
   "execution_count": 95,
   "metadata": {},
   "outputs": [
    {
     "output_type": "execute_result",
     "data": {
      "text/plain": [
       "index       parfam\n",
       "1944-01-01  20         1\n",
       "            30         1\n",
       "            40         1\n",
       "            60         1\n",
       "            80         1\n",
       "                      ..\n",
       "2020-01-01  70        24\n",
       "            80        12\n",
       "            90        13\n",
       "            95        16\n",
       "            98         4\n",
       "Name: parfam, Length: 750, dtype: int64"
      ]
     },
     "metadata": {},
     "execution_count": 95
    }
   ],
   "source": [
    "n_by_fam = allData.groupby(['index','parfam'])['parfam'].count()\n",
    "n_by_fam\n"
   ]
  },
  {
   "cell_type": "code",
   "execution_count": null,
   "metadata": {},
   "outputs": [],
   "source": []
  }
 ]
}