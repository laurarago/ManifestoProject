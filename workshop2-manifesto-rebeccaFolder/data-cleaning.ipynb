{
 "metadata": {
  "language_info": {
   "codemirror_mode": {
    "name": "ipython",
    "version": 3
   },
   "file_extension": ".py",
   "mimetype": "text/x-python",
   "name": "python",
   "nbconvert_exporter": "python",
   "pygments_lexer": "ipython3",
   "version": "3.8.3"
  },
  "orig_nbformat": 2,
  "kernelspec": {
   "name": "python383jvsc74a57bd0dca0ade3e726a953b501b15e8e990130d2b7799f14cfd9f4271676035ebe5511",
   "display_name": "Python 3.8.3 64-bit ('base': conda)"
  }
 },
 "nbformat": 4,
 "nbformat_minor": 2,
 "cells": [
  {
   "cell_type": "code",
   "execution_count": 1,
   "metadata": {},
   "outputs": [],
   "source": [
    "import pandas as pd\n",
    "df = pd.read_csv(\"manifesto-data-main.csv\")\n",
    "\n",
    "#Filter to pre-selected country list\n",
    "euCountries = ['Austria','Belgium','Bulgaria','Croatia','Cyprus','Czech Republic', 'Denmark', 'Estonia','Finland','France','Germany', 'Greece','Hungary','Ireland','Italy','Latvia','Lithuania','Luxembourg','Malta','Netherlands','Poland','Portugal','Romania','Slovakia','Slovenia','Spain','Sweden']\n",
    "\n",
    "df = df[df.countryname.isin(euCountries)]\n"
   ]
  },
  {
   "cell_type": "code",
   "execution_count": 2,
   "metadata": {},
   "outputs": [
    {
     "output_type": "execute_result",
     "data": {
      "text/plain": [
       "   country countryname  oecdmember  eumember       edate       date  party  \\\n",
       "0       11      Sweden           0         0  17/09/1944 1944-09-01  11220   \n",
       "1       11      Sweden           0         0  17/09/1944 1944-09-01  11320   \n",
       "2       11      Sweden           0         0  17/09/1944 1944-09-01  11420   \n",
       "3       11      Sweden           0         0  17/09/1944 1944-09-01  11620   \n",
       "4       11      Sweden           0         0  17/09/1944 1944-09-01  11810   \n",
       "\n",
       "                        partyname partyabbrev  parfam  ...  per703_2   rile  \\\n",
       "0       Communist Party of Sweden         SKP      20  ...       NaN   9.60   \n",
       "1  Social Democratic Labour Party         SAP      30  ...       NaN -37.80   \n",
       "2                  People’s Party          FP      40  ...       NaN   9.50   \n",
       "3                     Right Party         NaN      60  ...       NaN  28.00   \n",
       "4                  Agrarian Party         NaN      80  ...       NaN  23.81   \n",
       "\n",
       "   planeco  markeco  welfare  intpeace  datasetversion  id_perm  year  \\\n",
       "0      1.9    1.900      0.0     1.900           2020b   JN1LZH  1944   \n",
       "1      3.3    2.200     33.4     5.600           2020b   CMR7F6  1944   \n",
       "2      3.2    6.400     14.3     1.600           2020b   Z6OL6C  1944   \n",
       "3      1.8   22.800     10.6     0.000           2020b   YMKVN2  1944   \n",
       "4      0.0   19.048      0.0     4.762           2020b   U4SCRD  1944   \n",
       "\n",
       "     electionDate  \n",
       "0  September 1944  \n",
       "1  September 1944  \n",
       "2  September 1944  \n",
       "3  September 1944  \n",
       "4  September 1944  \n",
       "\n",
       "[5 rows x 176 columns]"
      ],
      "text/html": "<div>\n<style scoped>\n    .dataframe tbody tr th:only-of-type {\n        vertical-align: middle;\n    }\n\n    .dataframe tbody tr th {\n        vertical-align: top;\n    }\n\n    .dataframe thead th {\n        text-align: right;\n    }\n</style>\n<table border=\"1\" class=\"dataframe\">\n  <thead>\n    <tr style=\"text-align: right;\">\n      <th></th>\n      <th>country</th>\n      <th>countryname</th>\n      <th>oecdmember</th>\n      <th>eumember</th>\n      <th>edate</th>\n      <th>date</th>\n      <th>party</th>\n      <th>partyname</th>\n      <th>partyabbrev</th>\n      <th>parfam</th>\n      <th>...</th>\n      <th>per703_2</th>\n      <th>rile</th>\n      <th>planeco</th>\n      <th>markeco</th>\n      <th>welfare</th>\n      <th>intpeace</th>\n      <th>datasetversion</th>\n      <th>id_perm</th>\n      <th>year</th>\n      <th>electionDate</th>\n    </tr>\n  </thead>\n  <tbody>\n    <tr>\n      <th>0</th>\n      <td>11</td>\n      <td>Sweden</td>\n      <td>0</td>\n      <td>0</td>\n      <td>17/09/1944</td>\n      <td>1944-09-01</td>\n      <td>11220</td>\n      <td>Communist Party of Sweden</td>\n      <td>SKP</td>\n      <td>20</td>\n      <td>...</td>\n      <td>NaN</td>\n      <td>9.60</td>\n      <td>1.9</td>\n      <td>1.900</td>\n      <td>0.0</td>\n      <td>1.900</td>\n      <td>2020b</td>\n      <td>JN1LZH</td>\n      <td>1944</td>\n      <td>September 1944</td>\n    </tr>\n    <tr>\n      <th>1</th>\n      <td>11</td>\n      <td>Sweden</td>\n      <td>0</td>\n      <td>0</td>\n      <td>17/09/1944</td>\n      <td>1944-09-01</td>\n      <td>11320</td>\n      <td>Social Democratic Labour Party</td>\n      <td>SAP</td>\n      <td>30</td>\n      <td>...</td>\n      <td>NaN</td>\n      <td>-37.80</td>\n      <td>3.3</td>\n      <td>2.200</td>\n      <td>33.4</td>\n      <td>5.600</td>\n      <td>2020b</td>\n      <td>CMR7F6</td>\n      <td>1944</td>\n      <td>September 1944</td>\n    </tr>\n    <tr>\n      <th>2</th>\n      <td>11</td>\n      <td>Sweden</td>\n      <td>0</td>\n      <td>0</td>\n      <td>17/09/1944</td>\n      <td>1944-09-01</td>\n      <td>11420</td>\n      <td>People’s Party</td>\n      <td>FP</td>\n      <td>40</td>\n      <td>...</td>\n      <td>NaN</td>\n      <td>9.50</td>\n      <td>3.2</td>\n      <td>6.400</td>\n      <td>14.3</td>\n      <td>1.600</td>\n      <td>2020b</td>\n      <td>Z6OL6C</td>\n      <td>1944</td>\n      <td>September 1944</td>\n    </tr>\n    <tr>\n      <th>3</th>\n      <td>11</td>\n      <td>Sweden</td>\n      <td>0</td>\n      <td>0</td>\n      <td>17/09/1944</td>\n      <td>1944-09-01</td>\n      <td>11620</td>\n      <td>Right Party</td>\n      <td>NaN</td>\n      <td>60</td>\n      <td>...</td>\n      <td>NaN</td>\n      <td>28.00</td>\n      <td>1.8</td>\n      <td>22.800</td>\n      <td>10.6</td>\n      <td>0.000</td>\n      <td>2020b</td>\n      <td>YMKVN2</td>\n      <td>1944</td>\n      <td>September 1944</td>\n    </tr>\n    <tr>\n      <th>4</th>\n      <td>11</td>\n      <td>Sweden</td>\n      <td>0</td>\n      <td>0</td>\n      <td>17/09/1944</td>\n      <td>1944-09-01</td>\n      <td>11810</td>\n      <td>Agrarian Party</td>\n      <td>NaN</td>\n      <td>80</td>\n      <td>...</td>\n      <td>NaN</td>\n      <td>23.81</td>\n      <td>0.0</td>\n      <td>19.048</td>\n      <td>0.0</td>\n      <td>4.762</td>\n      <td>2020b</td>\n      <td>U4SCRD</td>\n      <td>1944</td>\n      <td>September 1944</td>\n    </tr>\n  </tbody>\n</table>\n<p>5 rows × 176 columns</p>\n</div>"
     },
     "metadata": {},
     "execution_count": 2
    }
   ],
   "source": [
    "#convert dates and add year\n",
    "import datetime\n",
    "\n",
    "df['date'] = pd.to_datetime(df['date'], format='%Y%m')\n",
    "df['year'] = df['date'].dt.strftime('%Y')\n",
    "df['electionDate'] = df['date'].dt.strftime('%B %Y')\n",
    "\n",
    "df.head()\n",
    "#Total rows = 2,622\n"
   ]
  },
  {
   "cell_type": "code",
   "execution_count": 5,
   "metadata": {},
   "outputs": [
    {
     "output_type": "execute_result",
     "data": {
      "text/plain": [
       "   country countryname  oecdmember  eumember       edate       date  party  \\\n",
       "0       11      Sweden           0         0  17/09/1944 1944-09-01  11220   \n",
       "1       11      Sweden           0         0  17/09/1944 1944-09-01  11320   \n",
       "2       11      Sweden           0         0  17/09/1944 1944-09-01  11420   \n",
       "3       11      Sweden           0         0  17/09/1944 1944-09-01  11620   \n",
       "4       11      Sweden           0         0  17/09/1944 1944-09-01  11810   \n",
       "\n",
       "                        partyname partyabbrev  parfam  ...  per703_2   rile  \\\n",
       "0       Communist Party of Sweden         SKP      20  ...       NaN   9.60   \n",
       "1  Social Democratic Labour Party         SAP      30  ...       NaN -37.80   \n",
       "2                  People’s Party          FP      40  ...       NaN   9.50   \n",
       "3                     Right Party         NaN      60  ...       NaN  28.00   \n",
       "4                  Agrarian Party         NaN      80  ...       NaN  23.81   \n",
       "\n",
       "   planeco  markeco  welfare  intpeace  datasetversion  id_perm  year  \\\n",
       "0      1.9    1.900      0.0     1.900           2020b   JN1LZH  1944   \n",
       "1      3.3    2.200     33.4     5.600           2020b   CMR7F6  1944   \n",
       "2      3.2    6.400     14.3     1.600           2020b   Z6OL6C  1944   \n",
       "3      1.8   22.800     10.6     0.000           2020b   YMKVN2  1944   \n",
       "4      0.0   19.048      0.0     4.762           2020b   U4SCRD  1944   \n",
       "\n",
       "     electionDate  \n",
       "0  September 1944  \n",
       "1  September 1944  \n",
       "2  September 1944  \n",
       "3  September 1944  \n",
       "4  September 1944  \n",
       "\n",
       "[5 rows x 176 columns]"
      ],
      "text/html": "<div>\n<style scoped>\n    .dataframe tbody tr th:only-of-type {\n        vertical-align: middle;\n    }\n\n    .dataframe tbody tr th {\n        vertical-align: top;\n    }\n\n    .dataframe thead th {\n        text-align: right;\n    }\n</style>\n<table border=\"1\" class=\"dataframe\">\n  <thead>\n    <tr style=\"text-align: right;\">\n      <th></th>\n      <th>country</th>\n      <th>countryname</th>\n      <th>oecdmember</th>\n      <th>eumember</th>\n      <th>edate</th>\n      <th>date</th>\n      <th>party</th>\n      <th>partyname</th>\n      <th>partyabbrev</th>\n      <th>parfam</th>\n      <th>...</th>\n      <th>per703_2</th>\n      <th>rile</th>\n      <th>planeco</th>\n      <th>markeco</th>\n      <th>welfare</th>\n      <th>intpeace</th>\n      <th>datasetversion</th>\n      <th>id_perm</th>\n      <th>year</th>\n      <th>electionDate</th>\n    </tr>\n  </thead>\n  <tbody>\n    <tr>\n      <th>0</th>\n      <td>11</td>\n      <td>Sweden</td>\n      <td>0</td>\n      <td>0</td>\n      <td>17/09/1944</td>\n      <td>1944-09-01</td>\n      <td>11220</td>\n      <td>Communist Party of Sweden</td>\n      <td>SKP</td>\n      <td>20</td>\n      <td>...</td>\n      <td>NaN</td>\n      <td>9.60</td>\n      <td>1.9</td>\n      <td>1.900</td>\n      <td>0.0</td>\n      <td>1.900</td>\n      <td>2020b</td>\n      <td>JN1LZH</td>\n      <td>1944</td>\n      <td>September 1944</td>\n    </tr>\n    <tr>\n      <th>1</th>\n      <td>11</td>\n      <td>Sweden</td>\n      <td>0</td>\n      <td>0</td>\n      <td>17/09/1944</td>\n      <td>1944-09-01</td>\n      <td>11320</td>\n      <td>Social Democratic Labour Party</td>\n      <td>SAP</td>\n      <td>30</td>\n      <td>...</td>\n      <td>NaN</td>\n      <td>-37.80</td>\n      <td>3.3</td>\n      <td>2.200</td>\n      <td>33.4</td>\n      <td>5.600</td>\n      <td>2020b</td>\n      <td>CMR7F6</td>\n      <td>1944</td>\n      <td>September 1944</td>\n    </tr>\n    <tr>\n      <th>2</th>\n      <td>11</td>\n      <td>Sweden</td>\n      <td>0</td>\n      <td>0</td>\n      <td>17/09/1944</td>\n      <td>1944-09-01</td>\n      <td>11420</td>\n      <td>People’s Party</td>\n      <td>FP</td>\n      <td>40</td>\n      <td>...</td>\n      <td>NaN</td>\n      <td>9.50</td>\n      <td>3.2</td>\n      <td>6.400</td>\n      <td>14.3</td>\n      <td>1.600</td>\n      <td>2020b</td>\n      <td>Z6OL6C</td>\n      <td>1944</td>\n      <td>September 1944</td>\n    </tr>\n    <tr>\n      <th>3</th>\n      <td>11</td>\n      <td>Sweden</td>\n      <td>0</td>\n      <td>0</td>\n      <td>17/09/1944</td>\n      <td>1944-09-01</td>\n      <td>11620</td>\n      <td>Right Party</td>\n      <td>NaN</td>\n      <td>60</td>\n      <td>...</td>\n      <td>NaN</td>\n      <td>28.00</td>\n      <td>1.8</td>\n      <td>22.800</td>\n      <td>10.6</td>\n      <td>0.000</td>\n      <td>2020b</td>\n      <td>YMKVN2</td>\n      <td>1944</td>\n      <td>September 1944</td>\n    </tr>\n    <tr>\n      <th>4</th>\n      <td>11</td>\n      <td>Sweden</td>\n      <td>0</td>\n      <td>0</td>\n      <td>17/09/1944</td>\n      <td>1944-09-01</td>\n      <td>11810</td>\n      <td>Agrarian Party</td>\n      <td>NaN</td>\n      <td>80</td>\n      <td>...</td>\n      <td>NaN</td>\n      <td>23.81</td>\n      <td>0.0</td>\n      <td>19.048</td>\n      <td>0.0</td>\n      <td>4.762</td>\n      <td>2020b</td>\n      <td>U4SCRD</td>\n      <td>1944</td>\n      <td>September 1944</td>\n    </tr>\n  </tbody>\n</table>\n<p>5 rows × 176 columns</p>\n</div>"
     },
     "metadata": {},
     "execution_count": 5
    }
   ],
   "source": [
    "#check for missing values\n",
    "df.per503.isnull()\n",
    "per503Missing = df[df.per503.isnull()] #missing values = 7\n",
    "\n",
    "#Remove missing values with Index\n",
    "missingValues = list(per503Missing.index)\n",
    "df = df[~df.index.isin(missingValues)]\n",
    "df.head()\n",
    "\n",
    "#Total rows = 2,615"
   ]
  },
  {
   "cell_type": "code",
   "execution_count": 4,
   "metadata": {},
   "outputs": [
    {
     "output_type": "execute_result",
     "data": {
      "text/plain": [
       "Empty DataFrame\n",
       "Columns: [country, countryname, oecdmember, eumember, edate, date, party, partyname, partyabbrev, parfam, coderid, manual, coderyear, testresult, testeditsim, pervote, voteest, presvote, absseat, totseats, progtype, datasetorigin, corpusversion, total, peruncod, per101, per102, per103, per104, per105, per106, per107, per108, per109, per110, per201, per202, per203, per204, per301, per302, per303, per304, per305, per401, per402, per403, per404, per405, per406, per407, per408, per409, per410, per411, per412, per413, per414, per415, per416, per501, per502, per503, per504, per505, per506, per507, per601, per602, per603, per604, per605, per606, per607, per608, per701, per702, per703, per704, per705, per706, per1011, per1012, per1013, per1014, per1015, per1016, per1021, per1022, per1023, per1024, per1025, per1026, per1031, per1032, per1033, per2021, per2022, per2023, per2031, ...]\n",
       "Index: []\n",
       "\n",
       "[0 rows x 176 columns]"
      ],
      "text/html": "<div>\n<style scoped>\n    .dataframe tbody tr th:only-of-type {\n        vertical-align: middle;\n    }\n\n    .dataframe tbody tr th {\n        vertical-align: top;\n    }\n\n    .dataframe thead th {\n        text-align: right;\n    }\n</style>\n<table border=\"1\" class=\"dataframe\">\n  <thead>\n    <tr style=\"text-align: right;\">\n      <th></th>\n      <th>country</th>\n      <th>countryname</th>\n      <th>oecdmember</th>\n      <th>eumember</th>\n      <th>edate</th>\n      <th>date</th>\n      <th>party</th>\n      <th>partyname</th>\n      <th>partyabbrev</th>\n      <th>parfam</th>\n      <th>...</th>\n      <th>per703_2</th>\n      <th>rile</th>\n      <th>planeco</th>\n      <th>markeco</th>\n      <th>welfare</th>\n      <th>intpeace</th>\n      <th>datasetversion</th>\n      <th>id_perm</th>\n      <th>year</th>\n      <th>electionDate</th>\n    </tr>\n  </thead>\n  <tbody>\n  </tbody>\n</table>\n<p>0 rows × 176 columns</p>\n</div>"
     },
     "metadata": {},
     "execution_count": 4
    }
   ],
   "source": [
    "#Just removing one row because of no value for ParFam\n",
    "\n",
    "missing = df.parfam == 999\n",
    "df_missing = df[missing]\n",
    "\n",
    "df_missing"
   ]
  },
  {
   "cell_type": "code",
   "execution_count": 3,
   "metadata": {},
   "outputs": [
    {
     "output_type": "execute_result",
     "data": {
      "text/plain": [
       "   country countryname  oecdmember  eumember       edate       date  party  \\\n",
       "0       11      Sweden           0         0  17/09/1944 1944-09-01  11220   \n",
       "1       11      Sweden           0         0  17/09/1944 1944-09-01  11320   \n",
       "2       11      Sweden           0         0  17/09/1944 1944-09-01  11420   \n",
       "3       11      Sweden           0         0  17/09/1944 1944-09-01  11620   \n",
       "4       11      Sweden           0         0  17/09/1944 1944-09-01  11810   \n",
       "\n",
       "                        partyname partyabbrev  parfam  ...  per703_2   rile  \\\n",
       "0       Communist Party of Sweden         SKP      20  ...       NaN   9.60   \n",
       "1  Social Democratic Labour Party         SAP      30  ...       NaN -37.80   \n",
       "2                  People’s Party          FP      40  ...       NaN   9.50   \n",
       "3                     Right Party         NaN      60  ...       NaN  28.00   \n",
       "4                  Agrarian Party         NaN      80  ...       NaN  23.81   \n",
       "\n",
       "   planeco  markeco  welfare  intpeace  datasetversion  id_perm  year  \\\n",
       "0      1.9    1.900      0.0     1.900           2020b   JN1LZH  1944   \n",
       "1      3.3    2.200     33.4     5.600           2020b   CMR7F6  1944   \n",
       "2      3.2    6.400     14.3     1.600           2020b   Z6OL6C  1944   \n",
       "3      1.8   22.800     10.6     0.000           2020b   YMKVN2  1944   \n",
       "4      0.0   19.048      0.0     4.762           2020b   U4SCRD  1944   \n",
       "\n",
       "     electionDate  \n",
       "0  September 1944  \n",
       "1  September 1944  \n",
       "2  September 1944  \n",
       "3  September 1944  \n",
       "4  September 1944  \n",
       "\n",
       "[5 rows x 176 columns]"
      ],
      "text/html": "<div>\n<style scoped>\n    .dataframe tbody tr th:only-of-type {\n        vertical-align: middle;\n    }\n\n    .dataframe tbody tr th {\n        vertical-align: top;\n    }\n\n    .dataframe thead th {\n        text-align: right;\n    }\n</style>\n<table border=\"1\" class=\"dataframe\">\n  <thead>\n    <tr style=\"text-align: right;\">\n      <th></th>\n      <th>country</th>\n      <th>countryname</th>\n      <th>oecdmember</th>\n      <th>eumember</th>\n      <th>edate</th>\n      <th>date</th>\n      <th>party</th>\n      <th>partyname</th>\n      <th>partyabbrev</th>\n      <th>parfam</th>\n      <th>...</th>\n      <th>per703_2</th>\n      <th>rile</th>\n      <th>planeco</th>\n      <th>markeco</th>\n      <th>welfare</th>\n      <th>intpeace</th>\n      <th>datasetversion</th>\n      <th>id_perm</th>\n      <th>year</th>\n      <th>electionDate</th>\n    </tr>\n  </thead>\n  <tbody>\n    <tr>\n      <th>0</th>\n      <td>11</td>\n      <td>Sweden</td>\n      <td>0</td>\n      <td>0</td>\n      <td>17/09/1944</td>\n      <td>1944-09-01</td>\n      <td>11220</td>\n      <td>Communist Party of Sweden</td>\n      <td>SKP</td>\n      <td>20</td>\n      <td>...</td>\n      <td>NaN</td>\n      <td>9.60</td>\n      <td>1.9</td>\n      <td>1.900</td>\n      <td>0.0</td>\n      <td>1.900</td>\n      <td>2020b</td>\n      <td>JN1LZH</td>\n      <td>1944</td>\n      <td>September 1944</td>\n    </tr>\n    <tr>\n      <th>1</th>\n      <td>11</td>\n      <td>Sweden</td>\n      <td>0</td>\n      <td>0</td>\n      <td>17/09/1944</td>\n      <td>1944-09-01</td>\n      <td>11320</td>\n      <td>Social Democratic Labour Party</td>\n      <td>SAP</td>\n      <td>30</td>\n      <td>...</td>\n      <td>NaN</td>\n      <td>-37.80</td>\n      <td>3.3</td>\n      <td>2.200</td>\n      <td>33.4</td>\n      <td>5.600</td>\n      <td>2020b</td>\n      <td>CMR7F6</td>\n      <td>1944</td>\n      <td>September 1944</td>\n    </tr>\n    <tr>\n      <th>2</th>\n      <td>11</td>\n      <td>Sweden</td>\n      <td>0</td>\n      <td>0</td>\n      <td>17/09/1944</td>\n      <td>1944-09-01</td>\n      <td>11420</td>\n      <td>People’s Party</td>\n      <td>FP</td>\n      <td>40</td>\n      <td>...</td>\n      <td>NaN</td>\n      <td>9.50</td>\n      <td>3.2</td>\n      <td>6.400</td>\n      <td>14.3</td>\n      <td>1.600</td>\n      <td>2020b</td>\n      <td>Z6OL6C</td>\n      <td>1944</td>\n      <td>September 1944</td>\n    </tr>\n    <tr>\n      <th>3</th>\n      <td>11</td>\n      <td>Sweden</td>\n      <td>0</td>\n      <td>0</td>\n      <td>17/09/1944</td>\n      <td>1944-09-01</td>\n      <td>11620</td>\n      <td>Right Party</td>\n      <td>NaN</td>\n      <td>60</td>\n      <td>...</td>\n      <td>NaN</td>\n      <td>28.00</td>\n      <td>1.8</td>\n      <td>22.800</td>\n      <td>10.6</td>\n      <td>0.000</td>\n      <td>2020b</td>\n      <td>YMKVN2</td>\n      <td>1944</td>\n      <td>September 1944</td>\n    </tr>\n    <tr>\n      <th>4</th>\n      <td>11</td>\n      <td>Sweden</td>\n      <td>0</td>\n      <td>0</td>\n      <td>17/09/1944</td>\n      <td>1944-09-01</td>\n      <td>11810</td>\n      <td>Agrarian Party</td>\n      <td>NaN</td>\n      <td>80</td>\n      <td>...</td>\n      <td>NaN</td>\n      <td>23.81</td>\n      <td>0.0</td>\n      <td>19.048</td>\n      <td>0.0</td>\n      <td>4.762</td>\n      <td>2020b</td>\n      <td>U4SCRD</td>\n      <td>1944</td>\n      <td>September 1944</td>\n    </tr>\n  </tbody>\n</table>\n<p>5 rows × 176 columns</p>\n</div>"
     },
     "metadata": {},
     "execution_count": 3
    }
   ],
   "source": [
    "#Remove missing parfam: Code 999\n",
    "df = df[(df.parfam != 999)]\n",
    "\n",
    "df.head()\n",
    "#Total rows now 2,614"
   ]
  },
  {
   "cell_type": "code",
   "execution_count": 6,
   "metadata": {},
   "outputs": [],
   "source": [
    "df = df[['parfam','year','countryname','per503','pervote','electionDate', 'partyname']]"
   ]
  },
  {
   "cell_type": "code",
   "execution_count": 7,
   "metadata": {},
   "outputs": [
    {
     "output_type": "execute_result",
     "data": {
      "text/plain": [
       "   parfam  year countryname  per503  pervote    electionDate  \\\n",
       "0      20  1944      Sweden     0.0     10.3  September 1944   \n",
       "1      30  1944      Sweden     5.6     46.5  September 1944   \n",
       "2      40  1944      Sweden     1.6     12.9  September 1944   \n",
       "3      60  1944      Sweden     5.3     15.8  September 1944   \n",
       "4      80  1944      Sweden     0.0     13.6  September 1944   \n",
       "\n",
       "                        partyname  environWeighted  \n",
       "0       Communist Party of Sweden             0.00  \n",
       "1  Social Democratic Labour Party           260.40  \n",
       "2                  People’s Party            20.64  \n",
       "3                     Right Party            83.74  \n",
       "4                  Agrarian Party             0.00  "
      ],
      "text/html": "<div>\n<style scoped>\n    .dataframe tbody tr th:only-of-type {\n        vertical-align: middle;\n    }\n\n    .dataframe tbody tr th {\n        vertical-align: top;\n    }\n\n    .dataframe thead th {\n        text-align: right;\n    }\n</style>\n<table border=\"1\" class=\"dataframe\">\n  <thead>\n    <tr style=\"text-align: right;\">\n      <th></th>\n      <th>parfam</th>\n      <th>year</th>\n      <th>countryname</th>\n      <th>per503</th>\n      <th>pervote</th>\n      <th>electionDate</th>\n      <th>partyname</th>\n      <th>environWeighted</th>\n    </tr>\n  </thead>\n  <tbody>\n    <tr>\n      <th>0</th>\n      <td>20</td>\n      <td>1944</td>\n      <td>Sweden</td>\n      <td>0.0</td>\n      <td>10.3</td>\n      <td>September 1944</td>\n      <td>Communist Party of Sweden</td>\n      <td>0.00</td>\n    </tr>\n    <tr>\n      <th>1</th>\n      <td>30</td>\n      <td>1944</td>\n      <td>Sweden</td>\n      <td>5.6</td>\n      <td>46.5</td>\n      <td>September 1944</td>\n      <td>Social Democratic Labour Party</td>\n      <td>260.40</td>\n    </tr>\n    <tr>\n      <th>2</th>\n      <td>40</td>\n      <td>1944</td>\n      <td>Sweden</td>\n      <td>1.6</td>\n      <td>12.9</td>\n      <td>September 1944</td>\n      <td>People’s Party</td>\n      <td>20.64</td>\n    </tr>\n    <tr>\n      <th>3</th>\n      <td>60</td>\n      <td>1944</td>\n      <td>Sweden</td>\n      <td>5.3</td>\n      <td>15.8</td>\n      <td>September 1944</td>\n      <td>Right Party</td>\n      <td>83.74</td>\n    </tr>\n    <tr>\n      <th>4</th>\n      <td>80</td>\n      <td>1944</td>\n      <td>Sweden</td>\n      <td>0.0</td>\n      <td>13.6</td>\n      <td>September 1944</td>\n      <td>Agrarian Party</td>\n      <td>0.00</td>\n    </tr>\n  </tbody>\n</table>\n</div>"
     },
     "metadata": {},
     "execution_count": 7
    }
   ],
   "source": [
    "#Add weighted average\n",
    "\n",
    "df['environWeighted'] = df.per503*df.pervote\n",
    "\n",
    "df.head()"
   ]
  },
  {
   "cell_type": "code",
   "execution_count": 8,
   "metadata": {},
   "outputs": [],
   "source": [
    "#Set index\n",
    "df2 = df.set_index(pd.DatetimeIndex(df['year']))"
   ]
  },
  {
   "cell_type": "code",
   "execution_count": 9,
   "metadata": {},
   "outputs": [
    {
     "output_type": "error",
     "ename": "ValueError",
     "evalue": "cannot reindex a non-unique index with a method or limit",
     "traceback": [
      "\u001b[0;31m---------------------------------------------------------------------------\u001b[0m",
      "\u001b[0;31mValueError\u001b[0m                                Traceback (most recent call last)",
      "\u001b[0;32m<ipython-input-9-7985d7a51117>\u001b[0m in \u001b[0;36m<module>\u001b[0;34m\u001b[0m\n\u001b[1;32m     25\u001b[0m \u001b[0;34m\u001b[0m\u001b[0m\n\u001b[1;32m     26\u001b[0m \u001b[0;31m# #reindex for each par fam and output as new DFs\u001b[0m\u001b[0;34m\u001b[0m\u001b[0;34m\u001b[0m\u001b[0;34m\u001b[0m\u001b[0m\n\u001b[0;32m---> 27\u001b[0;31m \u001b[0maustria10\u001b[0m \u001b[0;34m=\u001b[0m \u001b[0maustria10df\u001b[0m\u001b[0;34m.\u001b[0m\u001b[0mreindex\u001b[0m\u001b[0;34m(\u001b[0m\u001b[0mindex\u001b[0m\u001b[0;34m=\u001b[0m\u001b[0maustriaIdx\u001b[0m\u001b[0;34m,\u001b[0m \u001b[0mmethod\u001b[0m\u001b[0;34m=\u001b[0m\u001b[0;34m'ffill'\u001b[0m\u001b[0;34m)\u001b[0m\u001b[0;34m\u001b[0m\u001b[0;34m\u001b[0m\u001b[0m\n\u001b[0m\u001b[1;32m     28\u001b[0m \u001b[0;31m# austria20 = austria20df.reindex(index=austriaIdx, method='ffill')\u001b[0m\u001b[0;34m\u001b[0m\u001b[0;34m\u001b[0m\u001b[0;34m\u001b[0m\u001b[0m\n\u001b[1;32m     29\u001b[0m \u001b[0;31m# austria30 = austria30df.reindex(index=austriaIdx, method='ffill')\u001b[0m\u001b[0;34m\u001b[0m\u001b[0;34m\u001b[0m\u001b[0;34m\u001b[0m\u001b[0m\n",
      "\u001b[0;32m/opt/anaconda3/lib/python3.8/site-packages/pandas/util/_decorators.py\u001b[0m in \u001b[0;36mwrapper\u001b[0;34m(*args, **kwargs)\u001b[0m\n\u001b[1;32m    225\u001b[0m         \u001b[0;34m@\u001b[0m\u001b[0mwraps\u001b[0m\u001b[0;34m(\u001b[0m\u001b[0mfunc\u001b[0m\u001b[0;34m)\u001b[0m\u001b[0;34m\u001b[0m\u001b[0;34m\u001b[0m\u001b[0m\n\u001b[1;32m    226\u001b[0m         \u001b[0;32mdef\u001b[0m \u001b[0mwrapper\u001b[0m\u001b[0;34m(\u001b[0m\u001b[0;34m*\u001b[0m\u001b[0margs\u001b[0m\u001b[0;34m,\u001b[0m \u001b[0;34m**\u001b[0m\u001b[0mkwargs\u001b[0m\u001b[0;34m)\u001b[0m \u001b[0;34m->\u001b[0m \u001b[0mCallable\u001b[0m\u001b[0;34m[\u001b[0m\u001b[0;34m...\u001b[0m\u001b[0;34m,\u001b[0m \u001b[0mAny\u001b[0m\u001b[0;34m]\u001b[0m\u001b[0;34m:\u001b[0m\u001b[0;34m\u001b[0m\u001b[0;34m\u001b[0m\u001b[0m\n\u001b[0;32m--> 227\u001b[0;31m             \u001b[0;32mreturn\u001b[0m \u001b[0mfunc\u001b[0m\u001b[0;34m(\u001b[0m\u001b[0;34m*\u001b[0m\u001b[0margs\u001b[0m\u001b[0;34m,\u001b[0m \u001b[0;34m**\u001b[0m\u001b[0mkwargs\u001b[0m\u001b[0;34m)\u001b[0m\u001b[0;34m\u001b[0m\u001b[0;34m\u001b[0m\u001b[0m\n\u001b[0m\u001b[1;32m    228\u001b[0m \u001b[0;34m\u001b[0m\u001b[0m\n\u001b[1;32m    229\u001b[0m         \u001b[0mkind\u001b[0m \u001b[0;34m=\u001b[0m \u001b[0minspect\u001b[0m\u001b[0;34m.\u001b[0m\u001b[0mParameter\u001b[0m\u001b[0;34m.\u001b[0m\u001b[0mPOSITIONAL_OR_KEYWORD\u001b[0m\u001b[0;34m\u001b[0m\u001b[0;34m\u001b[0m\u001b[0m\n",
      "\u001b[0;32m/opt/anaconda3/lib/python3.8/site-packages/pandas/core/frame.py\u001b[0m in \u001b[0;36mreindex\u001b[0;34m(self, *args, **kwargs)\u001b[0m\n\u001b[1;32m   3854\u001b[0m         \u001b[0mkwargs\u001b[0m\u001b[0;34m.\u001b[0m\u001b[0mpop\u001b[0m\u001b[0;34m(\u001b[0m\u001b[0;34m\"axis\"\u001b[0m\u001b[0;34m,\u001b[0m \u001b[0;32mNone\u001b[0m\u001b[0;34m)\u001b[0m\u001b[0;34m\u001b[0m\u001b[0;34m\u001b[0m\u001b[0m\n\u001b[1;32m   3855\u001b[0m         \u001b[0mkwargs\u001b[0m\u001b[0;34m.\u001b[0m\u001b[0mpop\u001b[0m\u001b[0;34m(\u001b[0m\u001b[0;34m\"labels\"\u001b[0m\u001b[0;34m,\u001b[0m \u001b[0;32mNone\u001b[0m\u001b[0;34m)\u001b[0m\u001b[0;34m\u001b[0m\u001b[0;34m\u001b[0m\u001b[0m\n\u001b[0;32m-> 3856\u001b[0;31m         \u001b[0;32mreturn\u001b[0m \u001b[0msuper\u001b[0m\u001b[0;34m(\u001b[0m\u001b[0;34m)\u001b[0m\u001b[0;34m.\u001b[0m\u001b[0mreindex\u001b[0m\u001b[0;34m(\u001b[0m\u001b[0;34m**\u001b[0m\u001b[0mkwargs\u001b[0m\u001b[0;34m)\u001b[0m\u001b[0;34m\u001b[0m\u001b[0;34m\u001b[0m\u001b[0m\n\u001b[0m\u001b[1;32m   3857\u001b[0m \u001b[0;34m\u001b[0m\u001b[0m\n\u001b[1;32m   3858\u001b[0m     def drop(\n",
      "\u001b[0;32m/opt/anaconda3/lib/python3.8/site-packages/pandas/core/generic.py\u001b[0m in \u001b[0;36mreindex\u001b[0;34m(self, *args, **kwargs)\u001b[0m\n\u001b[1;32m   4541\u001b[0m \u001b[0;34m\u001b[0m\u001b[0m\n\u001b[1;32m   4542\u001b[0m         \u001b[0;31m# perform the reindex on the axes\u001b[0m\u001b[0;34m\u001b[0m\u001b[0;34m\u001b[0m\u001b[0;34m\u001b[0m\u001b[0m\n\u001b[0;32m-> 4543\u001b[0;31m         return self._reindex_axes(\n\u001b[0m\u001b[1;32m   4544\u001b[0m             \u001b[0maxes\u001b[0m\u001b[0;34m,\u001b[0m \u001b[0mlevel\u001b[0m\u001b[0;34m,\u001b[0m \u001b[0mlimit\u001b[0m\u001b[0;34m,\u001b[0m \u001b[0mtolerance\u001b[0m\u001b[0;34m,\u001b[0m \u001b[0mmethod\u001b[0m\u001b[0;34m,\u001b[0m \u001b[0mfill_value\u001b[0m\u001b[0;34m,\u001b[0m \u001b[0mcopy\u001b[0m\u001b[0;34m\u001b[0m\u001b[0;34m\u001b[0m\u001b[0m\n\u001b[1;32m   4545\u001b[0m         ).__finalize__(self)\n",
      "\u001b[0;32m/opt/anaconda3/lib/python3.8/site-packages/pandas/core/frame.py\u001b[0m in \u001b[0;36m_reindex_axes\u001b[0;34m(self, axes, level, limit, tolerance, method, fill_value, copy)\u001b[0m\n\u001b[1;32m   3741\u001b[0m         \u001b[0mindex\u001b[0m \u001b[0;34m=\u001b[0m \u001b[0maxes\u001b[0m\u001b[0;34m[\u001b[0m\u001b[0;34m\"index\"\u001b[0m\u001b[0;34m]\u001b[0m\u001b[0;34m\u001b[0m\u001b[0;34m\u001b[0m\u001b[0m\n\u001b[1;32m   3742\u001b[0m         \u001b[0;32mif\u001b[0m \u001b[0mindex\u001b[0m \u001b[0;32mis\u001b[0m \u001b[0;32mnot\u001b[0m \u001b[0;32mNone\u001b[0m\u001b[0;34m:\u001b[0m\u001b[0;34m\u001b[0m\u001b[0;34m\u001b[0m\u001b[0m\n\u001b[0;32m-> 3743\u001b[0;31m             frame = frame._reindex_index(\n\u001b[0m\u001b[1;32m   3744\u001b[0m                 \u001b[0mindex\u001b[0m\u001b[0;34m,\u001b[0m \u001b[0mmethod\u001b[0m\u001b[0;34m,\u001b[0m \u001b[0mcopy\u001b[0m\u001b[0;34m,\u001b[0m \u001b[0mlevel\u001b[0m\u001b[0;34m,\u001b[0m \u001b[0mfill_value\u001b[0m\u001b[0;34m,\u001b[0m \u001b[0mlimit\u001b[0m\u001b[0;34m,\u001b[0m \u001b[0mtolerance\u001b[0m\u001b[0;34m\u001b[0m\u001b[0;34m\u001b[0m\u001b[0m\n\u001b[1;32m   3745\u001b[0m             )\n",
      "\u001b[0;32m/opt/anaconda3/lib/python3.8/site-packages/pandas/core/frame.py\u001b[0m in \u001b[0;36m_reindex_index\u001b[0;34m(self, new_index, method, copy, level, fill_value, limit, tolerance)\u001b[0m\n\u001b[1;32m   3757\u001b[0m         \u001b[0mtolerance\u001b[0m\u001b[0;34m=\u001b[0m\u001b[0;32mNone\u001b[0m\u001b[0;34m,\u001b[0m\u001b[0;34m\u001b[0m\u001b[0;34m\u001b[0m\u001b[0m\n\u001b[1;32m   3758\u001b[0m     ):\n\u001b[0;32m-> 3759\u001b[0;31m         new_index, indexer = self.index.reindex(\n\u001b[0m\u001b[1;32m   3760\u001b[0m             \u001b[0mnew_index\u001b[0m\u001b[0;34m,\u001b[0m \u001b[0mmethod\u001b[0m\u001b[0;34m=\u001b[0m\u001b[0mmethod\u001b[0m\u001b[0;34m,\u001b[0m \u001b[0mlevel\u001b[0m\u001b[0;34m=\u001b[0m\u001b[0mlevel\u001b[0m\u001b[0;34m,\u001b[0m \u001b[0mlimit\u001b[0m\u001b[0;34m=\u001b[0m\u001b[0mlimit\u001b[0m\u001b[0;34m,\u001b[0m \u001b[0mtolerance\u001b[0m\u001b[0;34m=\u001b[0m\u001b[0mtolerance\u001b[0m\u001b[0;34m\u001b[0m\u001b[0;34m\u001b[0m\u001b[0m\n\u001b[1;32m   3761\u001b[0m         )\n",
      "\u001b[0;32m/opt/anaconda3/lib/python3.8/site-packages/pandas/core/indexes/base.py\u001b[0m in \u001b[0;36mreindex\u001b[0;34m(self, target, method, level, limit, tolerance)\u001b[0m\n\u001b[1;32m   3147\u001b[0m                 \u001b[0;32melse\u001b[0m\u001b[0;34m:\u001b[0m\u001b[0;34m\u001b[0m\u001b[0;34m\u001b[0m\u001b[0m\n\u001b[1;32m   3148\u001b[0m                     \u001b[0;32mif\u001b[0m \u001b[0mmethod\u001b[0m \u001b[0;32mis\u001b[0m \u001b[0;32mnot\u001b[0m \u001b[0;32mNone\u001b[0m \u001b[0;32mor\u001b[0m \u001b[0mlimit\u001b[0m \u001b[0;32mis\u001b[0m \u001b[0;32mnot\u001b[0m \u001b[0;32mNone\u001b[0m\u001b[0;34m:\u001b[0m\u001b[0;34m\u001b[0m\u001b[0;34m\u001b[0m\u001b[0m\n\u001b[0;32m-> 3149\u001b[0;31m                         raise ValueError(\n\u001b[0m\u001b[1;32m   3150\u001b[0m                             \u001b[0;34m\"cannot reindex a non-unique index \"\u001b[0m\u001b[0;34m\u001b[0m\u001b[0;34m\u001b[0m\u001b[0m\n\u001b[1;32m   3151\u001b[0m                             \u001b[0;34m\"with a method or limit\"\u001b[0m\u001b[0;34m\u001b[0m\u001b[0;34m\u001b[0m\u001b[0m\n",
      "\u001b[0;31mValueError\u001b[0m: cannot reindex a non-unique index with a method or limit"
     ]
    }
   ],
   "source": [
    "#Austria\n",
    "\n",
    "parfams = [10, 20, 30, 40, 50, 60, 70, 80, 90, 95, 98]\n",
    "\n",
    "austriaDF = df2.loc[(df2['countryname'] == 'Austria')]\n",
    "\n",
    "#filter to just those parties, to remove duplicates when using reindex\n",
    "austria10df = austriaDF.loc[(austriaDF['parfam']== 10)]\n",
    "# austria20df = df2.loc[(df2['parfam']== 20)]\n",
    "# austria30df = df2.loc[(df2['parfam']== 30)]\n",
    "# austria40df = df2.loc[(df2['parfam']== 40)]\n",
    "# austria50df = df2.loc[(df2['parfam']== 50)]\n",
    "# austria60df = df2.loc[(df2['parfam']== 60)]\n",
    "# austria70df = df2.loc[(df2['parfam']== 70)]\n",
    "# austria80df = df2.loc[(df2['parfam']== 80)]\n",
    "# austria90df = df2.loc[(df2['parfam']== 90)]\n",
    "# austria95df = df2.loc[(df2['parfam']== 95)]\n",
    "# austria98df = df2.loc[(df2['parfam']== 98)]\n",
    "\n",
    "#get min year\n",
    "austriaMinYear = austriaDF.year.min()\n",
    "\n",
    "#set index range for reindex\n",
    "austriaIdx = pd.date_range(austriaMinYear, '2020', freq='YS')\n",
    "\n",
    "# #reindex for each par fam and output as new DFs\n",
    "austria10 = austria10df.reindex(index=austriaIdx, method='ffill')\n",
    "# austria20 = austria20df.reindex(index=austriaIdx, method='ffill')\n",
    "# austria30 = austria30df.reindex(index=austriaIdx, method='ffill')\n",
    "# austria40 = austria40df.reindex(index=austriaIdx, method='ffill')\n",
    "# austria50 = austria50df.reindex(index=austriaIdx, method='ffill')\n",
    "# austria60 = austria60df.reindex(index=austriaIdx, method='ffill')\n",
    "# austria70 = austria70df.reindex(index=austriaIdx, method='ffill')\n",
    "# austria80 = austria80df.reindex(index=austriaIdx, method='ffill')\n",
    "# austria90 = austria90df.reindex(index=austriaIdx, method='ffill')\n",
    "# austria95 = austria95df.reindex(index=austriaIdx, method='ffill')\n",
    "# austria98 = austria98df.reindex(index=austriaIdx, method='ffill')"
   ]
  },
  {
   "cell_type": "code",
   "execution_count": 17,
   "metadata": {},
   "outputs": [],
   "source": [
    "sweden = sweden20.append(sweden60)"
   ]
  },
  {
   "cell_type": "code",
   "execution_count": null,
   "metadata": {},
   "outputs": [],
   "source": []
  }
 ]
}